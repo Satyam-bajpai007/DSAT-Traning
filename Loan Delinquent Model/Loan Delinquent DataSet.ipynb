{
 "cells": [
  {
   "cell_type": "markdown",
   "id": "15f33252",
   "metadata": {
    "toc": true
   },
   "source": [
    "<h1>Table of Contents<span class=\"tocSkip\"></span></h1>\n",
    "<div class=\"toc\"><ul class=\"toc-item\"><li><span><a href=\"#Importing-DataSet\" data-toc-modified-id=\"Importing-DataSet-1\"><span class=\"toc-item-num\">1&nbsp;&nbsp;</span>Importing DataSet</a></span></li><li><span><a href=\"#Data-Analysis\" data-toc-modified-id=\"Data-Analysis-2\"><span class=\"toc-item-num\">2&nbsp;&nbsp;</span>Data Analysis</a></span><ul class=\"toc-item\"><li><span><a href=\"#Checking-Unique-Value\" data-toc-modified-id=\"Checking-Unique-Value-2.1\"><span class=\"toc-item-num\">2.1&nbsp;&nbsp;</span>Checking Unique Value</a></span></li><li><span><a href=\"#Checking-Null-Value\" data-toc-modified-id=\"Checking-Null-Value-2.2\"><span class=\"toc-item-num\">2.2&nbsp;&nbsp;</span>Checking Null Value</a></span></li><li><span><a href=\"#Checking-Duplicate-Value\" data-toc-modified-id=\"Checking-Duplicate-Value-2.3\"><span class=\"toc-item-num\">2.3&nbsp;&nbsp;</span>Checking Duplicate Value</a></span></li></ul></li><li><span><a href=\"#Data-Visulaisation\" data-toc-modified-id=\"Data-Visulaisation-3\"><span class=\"toc-item-num\">3&nbsp;&nbsp;</span>Data Visulaisation</a></span></li><li><span><a href=\"#Drop-Unnecessary-Data\" data-toc-modified-id=\"Drop-Unnecessary-Data-4\"><span class=\"toc-item-num\">4&nbsp;&nbsp;</span>Drop Unnecessary Data</a></span></li><li><span><a href=\"#Creating-Catogorical-and-Numerical-DataFrame\" data-toc-modified-id=\"Creating-Catogorical-and-Numerical-DataFrame-5\"><span class=\"toc-item-num\">5&nbsp;&nbsp;</span>Creating Catogorical and Numerical DataFrame</a></span><ul class=\"toc-item\"><li><span><a href=\"#Classify-Data-into-catagorical-and-numerical-datatype\" data-toc-modified-id=\"Classify-Data-into-catagorical-and-numerical-datatype-5.1\"><span class=\"toc-item-num\">5.1&nbsp;&nbsp;</span>Classify Data into catagorical and numerical datatype</a></span></li></ul></li><li><span><a href=\"#One-Hot-Encoding-of-Catagorical-DataType\" data-toc-modified-id=\"One-Hot-Encoding-of-Catagorical-DataType-6\"><span class=\"toc-item-num\">6&nbsp;&nbsp;</span>One-Hot Encoding of Catagorical DataType</a></span></li><li><span><a href=\"#Creating-Input-and-Target-DataFrame\" data-toc-modified-id=\"Creating-Input-and-Target-DataFrame-7\"><span class=\"toc-item-num\">7&nbsp;&nbsp;</span>Creating Input and Target DataFrame</a></span></li><li><span><a href=\"#Training-And-Testing\" data-toc-modified-id=\"Training-And-Testing-8\"><span class=\"toc-item-num\">8&nbsp;&nbsp;</span>Training And Testing</a></span><ul class=\"toc-item\"><li><span><a href=\"#Spliting-Data-into-Train-and-Test-Data\" data-toc-modified-id=\"Spliting-Data-into-Train-and-Test-Data-8.1\"><span class=\"toc-item-num\">8.1&nbsp;&nbsp;</span>Spliting Data into Train and Test Data</a></span></li><li><span><a href=\"#Model-Training\" data-toc-modified-id=\"Model-Training-8.2\"><span class=\"toc-item-num\">8.2&nbsp;&nbsp;</span>Model Training</a></span><ul class=\"toc-item\"><li><span><a href=\"#Logistic-Regression\" data-toc-modified-id=\"Logistic-Regression-8.2.1\"><span class=\"toc-item-num\">8.2.1&nbsp;&nbsp;</span>Logistic Regression</a></span><ul class=\"toc-item\"><li><span><a href=\"#Confusion-Matrix\" data-toc-modified-id=\"Confusion-Matrix-8.2.1.1\"><span class=\"toc-item-num\">8.2.1.1&nbsp;&nbsp;</span>Confusion Matrix</a></span></li><li><span><a href=\"#ROC-AUC-Score\" data-toc-modified-id=\"ROC-AUC-Score-8.2.1.2\"><span class=\"toc-item-num\">8.2.1.2&nbsp;&nbsp;</span>ROC-AUC Score</a></span></li><li><span><a href=\"#GridSearch-Cross-Validation\" data-toc-modified-id=\"GridSearch-Cross-Validation-8.2.1.3\"><span class=\"toc-item-num\">8.2.1.3&nbsp;&nbsp;</span>GridSearch Cross-Validation</a></span></li></ul></li><li><span><a href=\"#Decision-Tree\" data-toc-modified-id=\"Decision-Tree-8.2.2\"><span class=\"toc-item-num\">8.2.2&nbsp;&nbsp;</span>Decision Tree</a></span><ul class=\"toc-item\"><li><span><a href=\"#Confusion-Matrix\" data-toc-modified-id=\"Confusion-Matrix-8.2.2.1\"><span class=\"toc-item-num\">8.2.2.1&nbsp;&nbsp;</span>Confusion Matrix</a></span></li><li><span><a href=\"#ROC-AUC-Score\" data-toc-modified-id=\"ROC-AUC-Score-8.2.2.2\"><span class=\"toc-item-num\">8.2.2.2&nbsp;&nbsp;</span>ROC-AUC Score</a></span></li><li><span><a href=\"#GridSearch-Cross-Validation\" data-toc-modified-id=\"GridSearch-Cross-Validation-8.2.2.3\"><span class=\"toc-item-num\">8.2.2.3&nbsp;&nbsp;</span>GridSearch Cross-Validation</a></span></li></ul></li></ul></li></ul></li></ul></div>"
   ]
  },
  {
   "cell_type": "code",
   "execution_count": 12,
   "id": "2232e96e",
   "metadata": {
    "ExecuteTime": {
     "end_time": "2022-07-28T18:36:12.066014Z",
     "start_time": "2022-07-28T18:36:12.053968Z"
    }
   },
   "outputs": [],
   "source": [
    "import pandas as pd\n",
    "import numpy as np\n",
    "import seaborn as snb\n",
    "import matplotlib.pyplot as plt"
   ]
  },
  {
   "cell_type": "code",
   "execution_count": 13,
   "id": "02a234e5",
   "metadata": {
    "ExecuteTime": {
     "end_time": "2022-07-28T18:36:12.279404Z",
     "start_time": "2022-07-28T18:36:12.259941Z"
    }
   },
   "outputs": [],
   "source": [
    "import warnings\n",
    "warnings.filterwarnings('ignore')"
   ]
  },
  {
   "cell_type": "markdown",
   "id": "3199cd22",
   "metadata": {},
   "source": [
    "# Importing DataSet"
   ]
  },
  {
   "cell_type": "code",
   "execution_count": 14,
   "id": "6b9fb8e1",
   "metadata": {
    "ExecuteTime": {
     "end_time": "2022-07-28T18:36:12.651645Z",
     "start_time": "2022-07-28T18:36:12.587623Z"
    }
   },
   "outputs": [
    {
     "data": {
      "text/html": [
       "<div>\n",
       "<style scoped>\n",
       "    .dataframe tbody tr th:only-of-type {\n",
       "        vertical-align: middle;\n",
       "    }\n",
       "\n",
       "    .dataframe tbody tr th {\n",
       "        vertical-align: top;\n",
       "    }\n",
       "\n",
       "    .dataframe thead th {\n",
       "        text-align: right;\n",
       "    }\n",
       "</style>\n",
       "<table border=\"1\" class=\"dataframe\">\n",
       "  <thead>\n",
       "    <tr style=\"text-align: right;\">\n",
       "      <th></th>\n",
       "      <th>ID</th>\n",
       "      <th>delinquent</th>\n",
       "      <th>Sdelinquent</th>\n",
       "      <th>term</th>\n",
       "      <th>gender</th>\n",
       "      <th>purpose</th>\n",
       "      <th>home_ownership</th>\n",
       "      <th>age</th>\n",
       "      <th>FICO</th>\n",
       "    </tr>\n",
       "  </thead>\n",
       "  <tbody>\n",
       "    <tr>\n",
       "      <th>0</th>\n",
       "      <td>1</td>\n",
       "      <td>Yes</td>\n",
       "      <td>1</td>\n",
       "      <td>36 months</td>\n",
       "      <td>Female</td>\n",
       "      <td>House</td>\n",
       "      <td>Mortgage</td>\n",
       "      <td>&gt;25</td>\n",
       "      <td>300-500</td>\n",
       "    </tr>\n",
       "    <tr>\n",
       "      <th>1</th>\n",
       "      <td>2</td>\n",
       "      <td>No</td>\n",
       "      <td>0</td>\n",
       "      <td>36 months</td>\n",
       "      <td>Female</td>\n",
       "      <td>House</td>\n",
       "      <td>Rent</td>\n",
       "      <td>20-25</td>\n",
       "      <td>&gt;500</td>\n",
       "    </tr>\n",
       "    <tr>\n",
       "      <th>2</th>\n",
       "      <td>3</td>\n",
       "      <td>Yes</td>\n",
       "      <td>1</td>\n",
       "      <td>36 months</td>\n",
       "      <td>Female</td>\n",
       "      <td>House</td>\n",
       "      <td>Rent</td>\n",
       "      <td>&gt;25</td>\n",
       "      <td>300-500</td>\n",
       "    </tr>\n",
       "    <tr>\n",
       "      <th>3</th>\n",
       "      <td>4</td>\n",
       "      <td>Yes</td>\n",
       "      <td>1</td>\n",
       "      <td>36 months</td>\n",
       "      <td>Female</td>\n",
       "      <td>Car</td>\n",
       "      <td>Mortgage</td>\n",
       "      <td>&gt;25</td>\n",
       "      <td>300-500</td>\n",
       "    </tr>\n",
       "    <tr>\n",
       "      <th>4</th>\n",
       "      <td>5</td>\n",
       "      <td>Yes</td>\n",
       "      <td>1</td>\n",
       "      <td>36 months</td>\n",
       "      <td>Female</td>\n",
       "      <td>House</td>\n",
       "      <td>Rent</td>\n",
       "      <td>&gt;25</td>\n",
       "      <td>300-500</td>\n",
       "    </tr>\n",
       "  </tbody>\n",
       "</table>\n",
       "</div>"
      ],
      "text/plain": [
       "   ID delinquent  Sdelinquent       term  gender purpose home_ownership  \\\n",
       "0   1        Yes            1  36 months  Female   House       Mortgage   \n",
       "1   2         No            0  36 months  Female   House           Rent   \n",
       "2   3        Yes            1  36 months  Female   House           Rent   \n",
       "3   4        Yes            1  36 months  Female     Car       Mortgage   \n",
       "4   5        Yes            1  36 months  Female   House           Rent   \n",
       "\n",
       "     age     FICO  \n",
       "0    >25  300-500  \n",
       "1  20-25     >500  \n",
       "2    >25  300-500  \n",
       "3    >25  300-500  \n",
       "4    >25  300-500  "
      ]
     },
     "execution_count": 14,
     "metadata": {},
     "output_type": "execute_result"
    }
   ],
   "source": [
    "df = pd.read_csv('Loan Delinquent Dataset.csv')\n",
    "df.head()"
   ]
  },
  {
   "cell_type": "markdown",
   "id": "98794dee",
   "metadata": {},
   "source": [
    "# Data Analysis"
   ]
  },
  {
   "cell_type": "code",
   "execution_count": 15,
   "id": "592861a6",
   "metadata": {
    "ExecuteTime": {
     "end_time": "2022-07-28T18:36:12.932159Z",
     "start_time": "2022-07-28T18:36:12.915235Z"
    }
   },
   "outputs": [
    {
     "data": {
      "text/plain": [
       "(11548, 9)"
      ]
     },
     "execution_count": 15,
     "metadata": {},
     "output_type": "execute_result"
    }
   ],
   "source": [
    "df.shape"
   ]
  },
  {
   "cell_type": "markdown",
   "id": "edd93a92",
   "metadata": {},
   "source": [
    "## Checking Unique Value"
   ]
  },
  {
   "cell_type": "code",
   "execution_count": 16,
   "id": "a7dbe950",
   "metadata": {
    "ExecuteTime": {
     "end_time": "2022-07-28T18:36:13.342092Z",
     "start_time": "2022-07-28T18:36:13.310204Z"
    }
   },
   "outputs": [
    {
     "data": {
      "text/plain": [
       "ID                11548\n",
       "delinquent            2\n",
       "Sdelinquent           2\n",
       "term                  2\n",
       "gender                2\n",
       "purpose               7\n",
       "home_ownership        3\n",
       "age                   2\n",
       "FICO                  2\n",
       "dtype: int64"
      ]
     },
     "execution_count": 16,
     "metadata": {},
     "output_type": "execute_result"
    }
   ],
   "source": [
    "df.nunique()"
   ]
  },
  {
   "cell_type": "code",
   "execution_count": 17,
   "id": "f904bef7",
   "metadata": {
    "ExecuteTime": {
     "end_time": "2022-07-28T18:36:13.520711Z",
     "start_time": "2022-07-28T18:36:13.479922Z"
    }
   },
   "outputs": [
    {
     "name": "stdout",
     "output_type": "stream",
     "text": [
      "<class 'pandas.core.frame.DataFrame'>\n",
      "RangeIndex: 11548 entries, 0 to 11547\n",
      "Data columns (total 9 columns):\n",
      " #   Column          Non-Null Count  Dtype \n",
      "---  ------          --------------  ----- \n",
      " 0   ID              11548 non-null  int64 \n",
      " 1   delinquent      11548 non-null  object\n",
      " 2   Sdelinquent     11548 non-null  int64 \n",
      " 3   term            11548 non-null  object\n",
      " 4   gender          11548 non-null  object\n",
      " 5   purpose         11548 non-null  object\n",
      " 6   home_ownership  11548 non-null  object\n",
      " 7   age             11548 non-null  object\n",
      " 8   FICO            11548 non-null  object\n",
      "dtypes: int64(2), object(7)\n",
      "memory usage: 812.1+ KB\n"
     ]
    }
   ],
   "source": [
    "df.info()"
   ]
  },
  {
   "cell_type": "markdown",
   "id": "f59006f4",
   "metadata": {},
   "source": [
    "## Checking Null Value"
   ]
  },
  {
   "cell_type": "code",
   "execution_count": 18,
   "id": "db810616",
   "metadata": {
    "ExecuteTime": {
     "end_time": "2022-07-28T18:36:13.850921Z",
     "start_time": "2022-07-28T18:36:13.799232Z"
    }
   },
   "outputs": [
    {
     "data": {
      "text/plain": [
       "ID                0\n",
       "delinquent        0\n",
       "Sdelinquent       0\n",
       "term              0\n",
       "gender            0\n",
       "purpose           0\n",
       "home_ownership    0\n",
       "age               0\n",
       "FICO              0\n",
       "dtype: int64"
      ]
     },
     "execution_count": 18,
     "metadata": {},
     "output_type": "execute_result"
    }
   ],
   "source": [
    "df.isnull().sum()"
   ]
  },
  {
   "cell_type": "markdown",
   "id": "bd19d098",
   "metadata": {},
   "source": [
    "## Checking Duplicate Value"
   ]
  },
  {
   "cell_type": "code",
   "execution_count": 19,
   "id": "17637699",
   "metadata": {
    "ExecuteTime": {
     "end_time": "2022-07-28T18:36:14.224103Z",
     "start_time": "2022-07-28T18:36:14.175231Z"
    }
   },
   "outputs": [
    {
     "data": {
      "text/plain": [
       "0"
      ]
     },
     "execution_count": 19,
     "metadata": {},
     "output_type": "execute_result"
    }
   ],
   "source": [
    "df.duplicated().sum()"
   ]
  },
  {
   "cell_type": "code",
   "execution_count": 20,
   "id": "504d6f09",
   "metadata": {
    "ExecuteTime": {
     "end_time": "2022-07-28T18:36:14.398152Z",
     "start_time": "2022-07-28T18:36:14.377922Z"
    }
   },
   "outputs": [
    {
     "data": {
      "text/plain": [
       "(7721, 9)"
      ]
     },
     "execution_count": 20,
     "metadata": {},
     "output_type": "execute_result"
    }
   ],
   "source": [
    "df[df['Sdelinquent']==1].shape"
   ]
  },
  {
   "cell_type": "code",
   "execution_count": 21,
   "id": "4edf2dd9",
   "metadata": {
    "ExecuteTime": {
     "end_time": "2022-07-28T18:36:14.567589Z",
     "start_time": "2022-07-28T18:36:14.551354Z"
    }
   },
   "outputs": [
    {
     "data": {
      "text/plain": [
       "(3827, 9)"
      ]
     },
     "execution_count": 21,
     "metadata": {},
     "output_type": "execute_result"
    }
   ],
   "source": [
    "df[df['Sdelinquent']==0].shape"
   ]
  },
  {
   "cell_type": "markdown",
   "id": "d86ab1f9",
   "metadata": {},
   "source": [
    "# Data Visulaisation"
   ]
  },
  {
   "cell_type": "code",
   "execution_count": 22,
   "id": "2fd9726e",
   "metadata": {
    "ExecuteTime": {
     "end_time": "2022-07-28T18:36:15.183653Z",
     "start_time": "2022-07-28T18:36:14.923012Z"
    }
   },
   "outputs": [
    {
     "data": {
      "text/plain": [
       "<AxesSubplot:xlabel='Sdelinquent', ylabel='count'>"
      ]
     },
     "execution_count": 22,
     "metadata": {},
     "output_type": "execute_result"
    },
    {
     "data": {
      "image/png": "[encoded data removed]",
      "text/plain": [
       "<Figure size 432x432 with 1 Axes>"
      ]
     },
     "metadata": {
      "needs_background": "light"
     },
     "output_type": "display_data"
    }
   ],
   "source": [
    "plt.figure(figsize=(6,6))\n",
    "snb.countplot(df['Sdelinquent'])"
   ]
  },
  {
   "cell_type": "code",
   "execution_count": 23,
   "id": "f3e619c2",
   "metadata": {
    "ExecuteTime": {
     "end_time": "2022-07-28T18:36:15.385318Z",
     "start_time": "2022-07-28T18:36:15.183653Z"
    }
   },
   "outputs": [
    {
     "data": {
      "text/plain": [
       "<AxesSubplot:xlabel='gender', ylabel='count'>"
      ]
     },
     "execution_count": 23,
     "metadata": {},
     "output_type": "execute_result"
    },
    {
     "data": {
      "image/png": "[encoded data removed]",
      "text/plain": [
       "<Figure size 432x432 with 1 Axes>"
      ]
     },
     "metadata": {
      "needs_background": "light"
     },
     "output_type": "display_data"
    }
   ],
   "source": [
    "plt.figure(figsize=(6,6))\n",
    "snb.countplot(df['gender'])"
   ]
  },
  {
   "cell_type": "code",
   "execution_count": 24,
   "id": "23e29c8c",
   "metadata": {
    "ExecuteTime": {
     "end_time": "2022-07-28T18:36:15.655603Z",
     "start_time": "2022-07-28T18:36:15.385318Z"
    }
   },
   "outputs": [
    {
     "data": {
      "text/plain": [
       "<AxesSubplot:xlabel='purpose', ylabel='count'>"
      ]
     },
     "execution_count": 24,
     "metadata": {},
     "output_type": "execute_result"
    },
    {
     "data": {
      "image/png": "[encoded data removed]",
      "text/plain": [
       "<Figure size 576x432 with 1 Axes>"
      ]
     },
     "metadata": {
      "needs_background": "light"
     },
     "output_type": "display_data"
    }
   ],
   "source": [
    "plt.figure(figsize=(8,6))\n",
    "snb.countplot(df['purpose'])"
   ]
  },
  {
   "cell_type": "code",
   "execution_count": 25,
   "id": "99ee3ada",
   "metadata": {
    "ExecuteTime": {
     "end_time": "2022-07-28T18:36:15.869558Z",
     "start_time": "2022-07-28T18:36:15.655603Z"
    }
   },
   "outputs": [
    {
     "data": {
      "text/plain": [
       "<AxesSubplot:xlabel='age', ylabel='count'>"
      ]
     },
     "execution_count": 25,
     "metadata": {},
     "output_type": "execute_result"
    },
    {
     "data": {
      "image/png": "[encoded data removed]",
      "text/plain": [
       "<Figure size 432x432 with 1 Axes>"
      ]
     },
     "metadata": {
      "needs_background": "light"
     },
     "output_type": "display_data"
    }
   ],
   "source": [
    "plt.figure(figsize=(6,6))\n",
    "snb.countplot(df['age'])"
   ]
  },
  {
   "cell_type": "markdown",
   "id": "ded3d4e3",
   "metadata": {},
   "source": [
    "# Drop Unnecessary Data"
   ]
  },
  {
   "cell_type": "code",
   "execution_count": 26,
   "id": "42d4c035",
   "metadata": {
    "ExecuteTime": {
     "end_time": "2022-07-28T18:36:15.905012Z",
     "start_time": "2022-07-28T18:36:15.869558Z"
    }
   },
   "outputs": [
    {
     "data": {
      "text/plain": [
       "11271"
      ]
     },
     "execution_count": 26,
     "metadata": {},
     "output_type": "execute_result"
    }
   ],
   "source": [
    "df = df.drop(['ID','delinquent'],axis='columns')\n",
    "df.head()\n",
    "df.duplicated().sum()"
   ]
  },
  {
   "cell_type": "markdown",
   "id": "e0a66019",
   "metadata": {},
   "source": [
    "# Creating Catogorical and Numerical DataFrame"
   ]
  },
  {
   "cell_type": "code",
   "execution_count": 16,
   "id": "35cf1377",
   "metadata": {
    "ExecuteTime": {
     "end_time": "2022-07-28T06:27:52.107262Z",
     "start_time": "2022-07-28T06:27:52.082261Z"
    }
   },
   "outputs": [],
   "source": [
    "num = pd.DataFrame()\n",
    "cat = pd.DataFrame()"
   ]
  },
  {
   "cell_type": "markdown",
   "id": "947900be",
   "metadata": {},
   "source": [
    "## Classify Data into catagorical and numerical datatype"
   ]
  },
  {
   "cell_type": "code",
   "execution_count": 17,
   "id": "ebd85e0d",
   "metadata": {
    "ExecuteTime": {
     "end_time": "2022-07-28T06:27:52.137281Z",
     "start_time": "2022-07-28T06:27:52.113265Z"
    }
   },
   "outputs": [],
   "source": [
    "for i in df.columns:\n",
    "    if df[i].dtype == object:\n",
    "        cat[i] = df[i]\n",
    "    else:\n",
    "        num[i] = df[i]"
   ]
  },
  {
   "cell_type": "code",
   "execution_count": 18,
   "id": "d8e1e683",
   "metadata": {
    "ExecuteTime": {
     "end_time": "2022-07-28T06:27:52.167277Z",
     "start_time": "2022-07-28T06:27:52.141270Z"
    }
   },
   "outputs": [
    {
     "data": {
      "text/html": [
       "<div>\n",
       "<style scoped>\n",
       "    .dataframe tbody tr th:only-of-type {\n",
       "        vertical-align: middle;\n",
       "    }\n",
       "\n",
       "    .dataframe tbody tr th {\n",
       "        vertical-align: top;\n",
       "    }\n",
       "\n",
       "    .dataframe thead th {\n",
       "        text-align: right;\n",
       "    }\n",
       "</style>\n",
       "<table border=\"1\" class=\"dataframe\">\n",
       "  <thead>\n",
       "    <tr style=\"text-align: right;\">\n",
       "      <th></th>\n",
       "      <th>Sdelinquent</th>\n",
       "    </tr>\n",
       "  </thead>\n",
       "  <tbody>\n",
       "    <tr>\n",
       "      <th>0</th>\n",
       "      <td>1</td>\n",
       "    </tr>\n",
       "    <tr>\n",
       "      <th>1</th>\n",
       "      <td>0</td>\n",
       "    </tr>\n",
       "    <tr>\n",
       "      <th>2</th>\n",
       "      <td>1</td>\n",
       "    </tr>\n",
       "    <tr>\n",
       "      <th>3</th>\n",
       "      <td>1</td>\n",
       "    </tr>\n",
       "    <tr>\n",
       "      <th>4</th>\n",
       "      <td>1</td>\n",
       "    </tr>\n",
       "  </tbody>\n",
       "</table>\n",
       "</div>"
      ],
      "text/plain": [
       "   Sdelinquent\n",
       "0            1\n",
       "1            0\n",
       "2            1\n",
       "3            1\n",
       "4            1"
      ]
     },
     "execution_count": 18,
     "metadata": {},
     "output_type": "execute_result"
    }
   ],
   "source": [
    "num.head()"
   ]
  },
  {
   "cell_type": "code",
   "execution_count": 19,
   "id": "64a8cb81",
   "metadata": {
    "ExecuteTime": {
     "end_time": "2022-07-28T06:27:52.199281Z",
     "start_time": "2022-07-28T06:27:52.171270Z"
    }
   },
   "outputs": [
    {
     "data": {
      "text/html": [
       "<div>\n",
       "<style scoped>\n",
       "    .dataframe tbody tr th:only-of-type {\n",
       "        vertical-align: middle;\n",
       "    }\n",
       "\n",
       "    .dataframe tbody tr th {\n",
       "        vertical-align: top;\n",
       "    }\n",
       "\n",
       "    .dataframe thead th {\n",
       "        text-align: right;\n",
       "    }\n",
       "</style>\n",
       "<table border=\"1\" class=\"dataframe\">\n",
       "  <thead>\n",
       "    <tr style=\"text-align: right;\">\n",
       "      <th></th>\n",
       "      <th>term</th>\n",
       "      <th>gender</th>\n",
       "      <th>purpose</th>\n",
       "      <th>home_ownership</th>\n",
       "      <th>age</th>\n",
       "      <th>FICO</th>\n",
       "    </tr>\n",
       "  </thead>\n",
       "  <tbody>\n",
       "    <tr>\n",
       "      <th>0</th>\n",
       "      <td>36 months</td>\n",
       "      <td>Female</td>\n",
       "      <td>House</td>\n",
       "      <td>Mortgage</td>\n",
       "      <td>&gt;25</td>\n",
       "      <td>300-500</td>\n",
       "    </tr>\n",
       "    <tr>\n",
       "      <th>1</th>\n",
       "      <td>36 months</td>\n",
       "      <td>Female</td>\n",
       "      <td>House</td>\n",
       "      <td>Rent</td>\n",
       "      <td>20-25</td>\n",
       "      <td>&gt;500</td>\n",
       "    </tr>\n",
       "    <tr>\n",
       "      <th>2</th>\n",
       "      <td>36 months</td>\n",
       "      <td>Female</td>\n",
       "      <td>House</td>\n",
       "      <td>Rent</td>\n",
       "      <td>&gt;25</td>\n",
       "      <td>300-500</td>\n",
       "    </tr>\n",
       "    <tr>\n",
       "      <th>3</th>\n",
       "      <td>36 months</td>\n",
       "      <td>Female</td>\n",
       "      <td>Car</td>\n",
       "      <td>Mortgage</td>\n",
       "      <td>&gt;25</td>\n",
       "      <td>300-500</td>\n",
       "    </tr>\n",
       "    <tr>\n",
       "      <th>4</th>\n",
       "      <td>36 months</td>\n",
       "      <td>Female</td>\n",
       "      <td>House</td>\n",
       "      <td>Rent</td>\n",
       "      <td>&gt;25</td>\n",
       "      <td>300-500</td>\n",
       "    </tr>\n",
       "  </tbody>\n",
       "</table>\n",
       "</div>"
      ],
      "text/plain": [
       "        term  gender purpose home_ownership    age     FICO\n",
       "0  36 months  Female   House       Mortgage    >25  300-500\n",
       "1  36 months  Female   House           Rent  20-25     >500\n",
       "2  36 months  Female   House           Rent    >25  300-500\n",
       "3  36 months  Female     Car       Mortgage    >25  300-500\n",
       "4  36 months  Female   House           Rent    >25  300-500"
      ]
     },
     "execution_count": 19,
     "metadata": {},
     "output_type": "execute_result"
    }
   ],
   "source": [
    "cat.head()"
   ]
  },
  {
   "cell_type": "markdown",
   "id": "556472d9",
   "metadata": {},
   "source": [
    "# One-Hot Encoding of Catagorical DataType"
   ]
  },
  {
   "cell_type": "code",
   "execution_count": 20,
   "id": "83896e7e",
   "metadata": {
    "ExecuteTime": {
     "end_time": "2022-07-28T06:27:52.247286Z",
     "start_time": "2022-07-28T06:27:52.204285Z"
    }
   },
   "outputs": [
    {
     "data": {
      "text/html": [
       "<div>\n",
       "<style scoped>\n",
       "    .dataframe tbody tr th:only-of-type {\n",
       "        vertical-align: middle;\n",
       "    }\n",
       "\n",
       "    .dataframe tbody tr th {\n",
       "        vertical-align: top;\n",
       "    }\n",
       "\n",
       "    .dataframe thead th {\n",
       "        text-align: right;\n",
       "    }\n",
       "</style>\n",
       "<table border=\"1\" class=\"dataframe\">\n",
       "  <thead>\n",
       "    <tr style=\"text-align: right;\">\n",
       "      <th></th>\n",
       "      <th>term_60 months</th>\n",
       "      <th>gender_Male</th>\n",
       "      <th>purpose_House</th>\n",
       "      <th>purpose_Medical</th>\n",
       "      <th>purpose_Other</th>\n",
       "      <th>purpose_Personal</th>\n",
       "      <th>purpose_Wedding</th>\n",
       "      <th>purpose_other</th>\n",
       "      <th>home_ownership_Own</th>\n",
       "      <th>home_ownership_Rent</th>\n",
       "      <th>age_&gt;25</th>\n",
       "      <th>FICO_&gt;500</th>\n",
       "    </tr>\n",
       "  </thead>\n",
       "  <tbody>\n",
       "    <tr>\n",
       "      <th>0</th>\n",
       "      <td>0</td>\n",
       "      <td>0</td>\n",
       "      <td>1</td>\n",
       "      <td>0</td>\n",
       "      <td>0</td>\n",
       "      <td>0</td>\n",
       "      <td>0</td>\n",
       "      <td>0</td>\n",
       "      <td>0</td>\n",
       "      <td>0</td>\n",
       "      <td>1</td>\n",
       "      <td>0</td>\n",
       "    </tr>\n",
       "    <tr>\n",
       "      <th>1</th>\n",
       "      <td>0</td>\n",
       "      <td>0</td>\n",
       "      <td>1</td>\n",
       "      <td>0</td>\n",
       "      <td>0</td>\n",
       "      <td>0</td>\n",
       "      <td>0</td>\n",
       "      <td>0</td>\n",
       "      <td>0</td>\n",
       "      <td>1</td>\n",
       "      <td>0</td>\n",
       "      <td>1</td>\n",
       "    </tr>\n",
       "    <tr>\n",
       "      <th>2</th>\n",
       "      <td>0</td>\n",
       "      <td>0</td>\n",
       "      <td>1</td>\n",
       "      <td>0</td>\n",
       "      <td>0</td>\n",
       "      <td>0</td>\n",
       "      <td>0</td>\n",
       "      <td>0</td>\n",
       "      <td>0</td>\n",
       "      <td>1</td>\n",
       "      <td>1</td>\n",
       "      <td>0</td>\n",
       "    </tr>\n",
       "    <tr>\n",
       "      <th>3</th>\n",
       "      <td>0</td>\n",
       "      <td>0</td>\n",
       "      <td>0</td>\n",
       "      <td>0</td>\n",
       "      <td>0</td>\n",
       "      <td>0</td>\n",
       "      <td>0</td>\n",
       "      <td>0</td>\n",
       "      <td>0</td>\n",
       "      <td>0</td>\n",
       "      <td>1</td>\n",
       "      <td>0</td>\n",
       "    </tr>\n",
       "    <tr>\n",
       "      <th>4</th>\n",
       "      <td>0</td>\n",
       "      <td>0</td>\n",
       "      <td>1</td>\n",
       "      <td>0</td>\n",
       "      <td>0</td>\n",
       "      <td>0</td>\n",
       "      <td>0</td>\n",
       "      <td>0</td>\n",
       "      <td>0</td>\n",
       "      <td>1</td>\n",
       "      <td>1</td>\n",
       "      <td>0</td>\n",
       "    </tr>\n",
       "  </tbody>\n",
       "</table>\n",
       "</div>"
      ],
      "text/plain": [
       "   term_60 months  gender_Male  purpose_House  purpose_Medical  purpose_Other  \\\n",
       "0               0            0              1                0              0   \n",
       "1               0            0              1                0              0   \n",
       "2               0            0              1                0              0   \n",
       "3               0            0              0                0              0   \n",
       "4               0            0              1                0              0   \n",
       "\n",
       "   purpose_Personal  purpose_Wedding  purpose_other  home_ownership_Own  \\\n",
       "0                 0                0              0                   0   \n",
       "1                 0                0              0                   0   \n",
       "2                 0                0              0                   0   \n",
       "3                 0                0              0                   0   \n",
       "4                 0                0              0                   0   \n",
       "\n",
       "   home_ownership_Rent  age_>25  FICO_>500  \n",
       "0                    0        1          0  \n",
       "1                    1        0          1  \n",
       "2                    1        1          0  \n",
       "3                    0        1          0  \n",
       "4                    1        1          0  "
      ]
     },
     "execution_count": 20,
     "metadata": {},
     "output_type": "execute_result"
    }
   ],
   "source": [
    "cat = pd.get_dummies(cat, drop_first=True)\n",
    "cat.head()"
   ]
  },
  {
   "cell_type": "markdown",
   "id": "a73e0101",
   "metadata": {},
   "source": [
    "# Creating Input and Target DataFrame"
   ]
  },
  {
   "cell_type": "code",
   "execution_count": 21,
   "id": "bc79b4b5",
   "metadata": {
    "ExecuteTime": {
     "end_time": "2022-07-28T06:27:52.263286Z",
     "start_time": "2022-07-28T06:27:52.252276Z"
    }
   },
   "outputs": [],
   "source": [
    "inputs = cat.copy()\n",
    "target = num.copy()"
   ]
  },
  {
   "cell_type": "markdown",
   "id": "67a155aa",
   "metadata": {},
   "source": [
    "# Training And Testing"
   ]
  },
  {
   "cell_type": "markdown",
   "id": "90f3f335",
   "metadata": {},
   "source": [
    "## Spliting Data into Train and Test Data "
   ]
  },
  {
   "cell_type": "code",
   "execution_count": 22,
   "id": "9ec993bd",
   "metadata": {
    "ExecuteTime": {
     "end_time": "2022-07-28T06:27:52.773137Z",
     "start_time": "2022-07-28T06:27:52.268294Z"
    }
   },
   "outputs": [],
   "source": [
    "from sklearn.model_selection import train_test_split"
   ]
  },
  {
   "cell_type": "code",
   "execution_count": 23,
   "id": "9f8fa0b0",
   "metadata": {
    "ExecuteTime": {
     "end_time": "2022-07-28T06:27:52.805137Z",
     "start_time": "2022-07-28T06:27:52.777139Z"
    }
   },
   "outputs": [],
   "source": [
    "xtrain,xtest,ytrain,ytest = train_test_split(inputs,target,test_size=0.3,random_state=10)"
   ]
  },
  {
   "cell_type": "code",
   "execution_count": 24,
   "id": "e50b218e",
   "metadata": {
    "ExecuteTime": {
     "end_time": "2022-07-28T06:27:52.821144Z",
     "start_time": "2022-07-28T06:27:52.810142Z"
    }
   },
   "outputs": [
    {
     "name": "stdout",
     "output_type": "stream",
     "text": [
      "Number of Data used in traing the model:  8083\n",
      "Number of data is used to test the data:  3465\n"
     ]
    }
   ],
   "source": [
    "print('Number of Data used in traing the model: ',xtrain.shape[0])\n",
    "print('Number of data is used to test the data: ',xtest.shape[0])"
   ]
  },
  {
   "cell_type": "markdown",
   "id": "c4f41e68",
   "metadata": {},
   "source": [
    "## Model Training"
   ]
  },
  {
   "cell_type": "markdown",
   "id": "290d736d",
   "metadata": {},
   "source": [
    "### Logistic Regression"
   ]
  },
  {
   "cell_type": "code",
   "execution_count": 25,
   "id": "6b489e04",
   "metadata": {
    "ExecuteTime": {
     "end_time": "2022-07-28T06:27:53.186308Z",
     "start_time": "2022-07-28T06:27:52.999854Z"
    }
   },
   "outputs": [],
   "source": [
    "from sklearn.linear_model import LogisticRegression\n",
    "model = LogisticRegression()"
   ]
  },
  {
   "cell_type": "code",
   "execution_count": 26,
   "id": "4b86368b",
   "metadata": {
    "ExecuteTime": {
     "end_time": "2022-07-28T06:27:54.312105Z",
     "start_time": "2022-07-28T06:27:54.212098Z"
    }
   },
   "outputs": [
    {
     "data": {
      "text/plain": [
       "LogisticRegression()"
      ]
     },
     "execution_count": 26,
     "metadata": {},
     "output_type": "execute_result"
    }
   ],
   "source": [
    "model.fit(xtrain,ytrain)"
   ]
  },
  {
   "cell_type": "code",
   "execution_count": 27,
   "id": "6379a992",
   "metadata": {
    "ExecuteTime": {
     "end_time": "2022-07-28T06:27:54.434864Z",
     "start_time": "2022-07-28T06:27:54.416863Z"
    }
   },
   "outputs": [
    {
     "data": {
      "text/plain": [
       "0.7991341991341991"
      ]
     },
     "execution_count": 27,
     "metadata": {},
     "output_type": "execute_result"
    }
   ],
   "source": [
    "model.score(xtest,ytest)"
   ]
  },
  {
   "cell_type": "code",
   "execution_count": 28,
   "id": "64665cac",
   "metadata": {
    "ExecuteTime": {
     "end_time": "2022-07-28T06:27:54.608686Z",
     "start_time": "2022-07-28T06:27:54.584672Z"
    }
   },
   "outputs": [
    {
     "data": {
      "text/plain": [
       "0.801929976493876"
      ]
     },
     "execution_count": 28,
     "metadata": {},
     "output_type": "execute_result"
    }
   ],
   "source": [
    "model.score(xtrain,ytrain)"
   ]
  },
  {
   "cell_type": "markdown",
   "id": "02bfd7e3",
   "metadata": {},
   "source": [
    "#### Confusion Matrix"
   ]
  },
  {
   "cell_type": "code",
   "execution_count": 29,
   "id": "701fd8e1",
   "metadata": {
    "ExecuteTime": {
     "end_time": "2022-07-28T06:27:54.971417Z",
     "start_time": "2022-07-28T06:27:54.951415Z"
    }
   },
   "outputs": [],
   "source": [
    "from sklearn.metrics import confusion_matrix"
   ]
  },
  {
   "cell_type": "code",
   "execution_count": 30,
   "id": "c2899a92",
   "metadata": {
    "ExecuteTime": {
     "end_time": "2022-07-28T06:27:55.160222Z",
     "start_time": "2022-07-28T06:27:55.148215Z"
    }
   },
   "outputs": [],
   "source": [
    "cm = confusion_matrix(ytest,model.predict(xtest))"
   ]
  },
  {
   "cell_type": "code",
   "execution_count": 31,
   "id": "59112075",
   "metadata": {
    "ExecuteTime": {
     "end_time": "2022-07-28T06:27:56.134132Z",
     "start_time": "2022-07-28T06:27:55.844264Z"
    }
   },
   "outputs": [
    {
     "data": {
      "text/plain": [
       "<AxesSubplot:>"
      ]
     },
     "execution_count": 31,
     "metadata": {},
     "output_type": "execute_result"
    },
    {
     "data": {
      "image/png": "[encoded data removed]",
      "text/plain": [
       "<Figure size 504x360 with 2 Axes>"
      ]
     },
     "metadata": {
      "needs_background": "light"
     },
     "output_type": "display_data"
    }
   ],
   "source": [
    "plt.figure(figsize=(7,5))\n",
    "snb.heatmap(cm,annot=True)"
   ]
  },
  {
   "cell_type": "markdown",
   "id": "a465eb62",
   "metadata": {},
   "source": [
    "#### ROC-AUC Score"
   ]
  },
  {
   "cell_type": "code",
   "execution_count": 32,
   "id": "9df682da",
   "metadata": {
    "ExecuteTime": {
     "end_time": "2022-07-28T06:27:57.315164Z",
     "start_time": "2022-07-28T06:27:57.295140Z"
    }
   },
   "outputs": [],
   "source": [
    "from sklearn.metrics import roc_auc_score"
   ]
  },
  {
   "cell_type": "code",
   "execution_count": 33,
   "id": "91a5933d",
   "metadata": {
    "ExecuteTime": {
     "end_time": "2022-07-28T06:27:57.582044Z",
     "start_time": "2022-07-28T06:27:57.558027Z"
    }
   },
   "outputs": [],
   "source": [
    "roc_auc = roc_auc_score(ytest,model.predict_proba(xtest)[:,1])"
   ]
  },
  {
   "cell_type": "code",
   "execution_count": 34,
   "id": "a8024be0",
   "metadata": {
    "ExecuteTime": {
     "end_time": "2022-07-28T06:27:57.766214Z",
     "start_time": "2022-07-28T06:27:57.753207Z"
    }
   },
   "outputs": [
    {
     "data": {
      "text/plain": [
       "0.7947416467642254"
      ]
     },
     "execution_count": 34,
     "metadata": {},
     "output_type": "execute_result"
    }
   ],
   "source": [
    "roc_auc"
   ]
  },
  {
   "cell_type": "markdown",
   "id": "215e8c20",
   "metadata": {},
   "source": [
    "#### GridSearch Cross-Validation"
   ]
  },
  {
   "cell_type": "code",
   "execution_count": 35,
   "id": "4c83189b",
   "metadata": {
    "ExecuteTime": {
     "end_time": "2022-07-28T06:28:03.829345Z",
     "start_time": "2022-07-28T06:28:03.809342Z"
    }
   },
   "outputs": [],
   "source": [
    "from sklearn.model_selection import GridSearchCV"
   ]
  },
  {
   "cell_type": "code",
   "execution_count": 36,
   "id": "40538a77",
   "metadata": {
    "ExecuteTime": {
     "end_time": "2022-07-28T06:28:04.031523Z",
     "start_time": "2022-07-28T06:28:04.009508Z"
    }
   },
   "outputs": [],
   "source": [
    "parameter = {\"C\":np.logspace(-3,3,7), \"penalty\":[\"l1\",\"l2\"]}\n",
    "model_cv = GridSearchCV(model,parameter,cv=5)"
   ]
  },
  {
   "cell_type": "code",
   "execution_count": 37,
   "id": "de0cad30",
   "metadata": {
    "ExecuteTime": {
     "end_time": "2022-07-28T06:28:05.853753Z",
     "start_time": "2022-07-28T06:28:04.200905Z"
    }
   },
   "outputs": [
    {
     "data": {
      "text/plain": [
       "GridSearchCV(cv=5, estimator=LogisticRegression(),\n",
       "             param_grid={'C': array([1.e-03, 1.e-02, 1.e-01, 1.e+00, 1.e+01, 1.e+02, 1.e+03]),\n",
       "                         'penalty': ['l1', 'l2']})"
      ]
     },
     "execution_count": 37,
     "metadata": {},
     "output_type": "execute_result"
    }
   ],
   "source": [
    "model_cv.fit(xtrain,ytrain)"
   ]
  },
  {
   "cell_type": "code",
   "execution_count": 38,
   "id": "02556a86",
   "metadata": {
    "ExecuteTime": {
     "end_time": "2022-07-28T06:28:05.902756Z",
     "start_time": "2022-07-28T06:28:05.868752Z"
    }
   },
   "outputs": [
    {
     "data": {
      "text/plain": [
       "{'C': 10.0, 'penalty': 'l2'}"
      ]
     },
     "execution_count": 38,
     "metadata": {},
     "output_type": "execute_result"
    }
   ],
   "source": [
    "model_cv.best_params_"
   ]
  },
  {
   "cell_type": "code",
   "execution_count": 39,
   "id": "fd49651e",
   "metadata": {
    "ExecuteTime": {
     "end_time": "2022-07-28T06:28:05.948764Z",
     "start_time": "2022-07-28T06:28:05.913758Z"
    }
   },
   "outputs": [
    {
     "data": {
      "text/plain": [
       "0.8017316017316017"
      ]
     },
     "execution_count": 39,
     "metadata": {},
     "output_type": "execute_result"
    }
   ],
   "source": [
    "model_cv.score(xtest,ytest)"
   ]
  },
  {
   "cell_type": "code",
   "execution_count": 40,
   "id": "e5d46318",
   "metadata": {
    "ExecuteTime": {
     "end_time": "2022-07-28T06:28:05.980763Z",
     "start_time": "2022-07-28T06:28:05.956762Z"
    }
   },
   "outputs": [
    {
     "data": {
      "text/plain": [
       "0.8034145737968577"
      ]
     },
     "execution_count": 40,
     "metadata": {},
     "output_type": "execute_result"
    }
   ],
   "source": [
    "model_cv.score(xtrain,ytrain)"
   ]
  },
  {
   "cell_type": "markdown",
   "id": "ec23ee25",
   "metadata": {},
   "source": [
    "### Decision Tree"
   ]
  },
  {
   "cell_type": "code",
   "execution_count": 41,
   "id": "6dcabe18",
   "metadata": {
    "ExecuteTime": {
     "end_time": "2022-07-28T06:28:06.198776Z",
     "start_time": "2022-07-28T06:28:05.984764Z"
    }
   },
   "outputs": [],
   "source": [
    "from sklearn.tree import DecisionTreeClassifier"
   ]
  },
  {
   "cell_type": "code",
   "execution_count": 42,
   "id": "98522d90",
   "metadata": {
    "ExecuteTime": {
     "end_time": "2022-07-28T06:28:11.176815Z",
     "start_time": "2022-07-28T06:28:11.159805Z"
    }
   },
   "outputs": [],
   "source": [
    "model = DecisionTreeClassifier() "
   ]
  },
  {
   "cell_type": "code",
   "execution_count": 43,
   "id": "8f023ca3",
   "metadata": {
    "ExecuteTime": {
     "end_time": "2022-07-28T06:28:11.444704Z",
     "start_time": "2022-07-28T06:28:11.416684Z"
    }
   },
   "outputs": [
    {
     "data": {
      "text/plain": [
       "DecisionTreeClassifier()"
      ]
     },
     "execution_count": 43,
     "metadata": {},
     "output_type": "execute_result"
    }
   ],
   "source": [
    "model.fit(xtrain,ytrain)"
   ]
  },
  {
   "cell_type": "code",
   "execution_count": 44,
   "id": "e22ca1e8",
   "metadata": {
    "ExecuteTime": {
     "end_time": "2022-07-28T06:28:11.650728Z",
     "start_time": "2022-07-28T06:28:11.626717Z"
    }
   },
   "outputs": [
    {
     "data": {
      "text/plain": [
       "0.8516594516594517"
      ]
     },
     "execution_count": 44,
     "metadata": {},
     "output_type": "execute_result"
    }
   ],
   "source": [
    "model.score(xtest,ytest)"
   ]
  },
  {
   "cell_type": "code",
   "execution_count": 45,
   "id": "e0aeff29",
   "metadata": {
    "ExecuteTime": {
     "end_time": "2022-07-28T06:28:11.839623Z",
     "start_time": "2022-07-28T06:28:11.822623Z"
    }
   },
   "outputs": [
    {
     "data": {
      "text/plain": [
       "0.8499319559569467"
      ]
     },
     "execution_count": 45,
     "metadata": {},
     "output_type": "execute_result"
    }
   ],
   "source": [
    "model.score(xtrain,ytrain)"
   ]
  },
  {
   "cell_type": "markdown",
   "id": "6dbadb9d",
   "metadata": {},
   "source": [
    "#### Confusion Matrix"
   ]
  },
  {
   "cell_type": "code",
   "execution_count": 46,
   "id": "49672e3f",
   "metadata": {
    "ExecuteTime": {
     "end_time": "2022-07-28T06:28:13.649008Z",
     "start_time": "2022-07-28T06:28:13.628006Z"
    }
   },
   "outputs": [],
   "source": [
    "cm = confusion_matrix(ytest,model.predict(xtest))"
   ]
  },
  {
   "cell_type": "code",
   "execution_count": 47,
   "id": "f6e58d75",
   "metadata": {
    "ExecuteTime": {
     "end_time": "2022-07-28T06:28:14.446993Z",
     "start_time": "2022-07-28T06:28:14.125506Z"
    }
   },
   "outputs": [
    {
     "data": {
      "text/plain": [
       "<AxesSubplot:>"
      ]
     },
     "execution_count": 47,
     "metadata": {},
     "output_type": "execute_result"
    },
    {
     "data": {
      "image/png": "[encoded data removed]",
      "text/plain": [
       "<Figure size 504x360 with 2 Axes>"
      ]
     },
     "metadata": {
      "needs_background": "light"
     },
     "output_type": "display_data"
    }
   ],
   "source": [
    "plt.figure(figsize=(7,5))\n",
    "snb.heatmap(cm,annot=True)"
   ]
  },
  {
   "cell_type": "markdown",
   "id": "62f91d2b",
   "metadata": {},
   "source": [
    "#### ROC-AUC Score"
   ]
  },
  {
   "cell_type": "code",
   "execution_count": 48,
   "id": "96e6dfa9",
   "metadata": {
    "ExecuteTime": {
     "end_time": "2022-07-28T06:28:16.163686Z",
     "start_time": "2022-07-28T06:28:16.130664Z"
    }
   },
   "outputs": [],
   "source": [
    "roc_auc = roc_auc_score(ytest,model.predict_proba(xtest)[:,1])"
   ]
  },
  {
   "cell_type": "code",
   "execution_count": 49,
   "id": "cf2d1fea",
   "metadata": {
    "ExecuteTime": {
     "end_time": "2022-07-28T06:28:16.417470Z",
     "start_time": "2022-07-28T06:28:16.392471Z"
    }
   },
   "outputs": [
    {
     "data": {
      "text/plain": [
       "0.8815568801438504"
      ]
     },
     "execution_count": 49,
     "metadata": {},
     "output_type": "execute_result"
    }
   ],
   "source": [
    "roc_auc"
   ]
  },
  {
   "cell_type": "markdown",
   "id": "c2c87068",
   "metadata": {},
   "source": [
    "#### GridSearch Cross-Validation"
   ]
  },
  {
   "cell_type": "code",
   "execution_count": 50,
   "id": "a9fc417b",
   "metadata": {
    "ExecuteTime": {
     "end_time": "2022-07-28T06:28:18.014167Z",
     "start_time": "2022-07-28T06:28:17.996163Z"
    }
   },
   "outputs": [],
   "source": [
    "parameter = {\"criterion\":['gini','entropy'], \"max_depth\":[2,4,6,8,10,12]}\n",
    "model_cv = GridSearchCV(model,parameter,cv=5)"
   ]
  },
  {
   "cell_type": "code",
   "execution_count": 53,
   "id": "eead46de",
   "metadata": {
    "ExecuteTime": {
     "end_time": "2022-07-28T06:33:40.756052Z",
     "start_time": "2022-07-28T06:33:39.757373Z"
    }
   },
   "outputs": [
    {
     "data": {
      "text/plain": [
       "GridSearchCV(cv=5, estimator=DecisionTreeClassifier(),\n",
       "             param_grid={'criterion': ['gini', 'entropy'],\n",
       "                         'max_depth': [2, 4, 6, 8, 10, 12]})"
      ]
     },
     "execution_count": 53,
     "metadata": {},
     "output_type": "execute_result"
    }
   ],
   "source": [
    "model_cv.fit(xtrain,ytrain)"
   ]
  },
  {
   "cell_type": "code",
   "execution_count": 54,
   "id": "27759c7d",
   "metadata": {
    "ExecuteTime": {
     "end_time": "2022-07-28T06:33:41.833342Z",
     "start_time": "2022-07-28T06:33:41.821340Z"
    }
   },
   "outputs": [
    {
     "data": {
      "text/plain": [
       "{'criterion': 'gini', 'max_depth': 4}"
      ]
     },
     "execution_count": 54,
     "metadata": {},
     "output_type": "execute_result"
    }
   ],
   "source": [
    "model_cv.best_params_"
   ]
  },
  {
   "cell_type": "code",
   "execution_count": 55,
   "id": "e95f2d42",
   "metadata": {
    "ExecuteTime": {
     "end_time": "2022-07-28T06:33:47.773122Z",
     "start_time": "2022-07-28T06:33:47.751120Z"
    }
   },
   "outputs": [
    {
     "data": {
      "text/plain": [
       "0.8545454545454545"
      ]
     },
     "execution_count": 55,
     "metadata": {},
     "output_type": "execute_result"
    }
   ],
   "source": [
    "model_cv.score(xtest,ytest)"
   ]
  },
  {
   "cell_type": "code",
   "execution_count": 56,
   "id": "b6e3f0d5",
   "metadata": {
    "ExecuteTime": {
     "end_time": "2022-07-28T06:33:51.551343Z",
     "start_time": "2022-07-28T06:33:51.526328Z"
    }
   },
   "outputs": [
    {
     "data": {
      "text/plain": [
       "0.8494370901892861"
      ]
     },
     "execution_count": 56,
     "metadata": {},
     "output_type": "execute_result"
    }
   ],
   "source": [
    "model_cv.score(xtrain,ytrain)"
   ]
  }
 ],
 "metadata": {
  "kernelspec": {
   "display_name": "Python 3 (ipykernel)",
   "language": "python",
   "name": "python3"
  },
  "language_info": {
   "codemirror_mode": {
    "name": "ipython",
    "version": 3
   },
   "file_extension": ".py",
   "mimetype": "text/x-python",
   "name": "python",
   "nbconvert_exporter": "python",
   "pygments_lexer": "ipython3",
   "version": "3.9.7"
  },
  "toc": {
   "base_numbering": 1,
   "nav_menu": {},
   "number_sections": true,
   "sideBar": true,
   "skip_h1_title": false,
   "title_cell": "Table of Contents",
   "title_sidebar": "Contents",
   "toc_cell": true,
   "toc_position": {
    "height": "calc(100% - 180px)",
    "left": "10px",
    "top": "150px",
    "width": "304.469px"
   },
   "toc_section_display": true,
   "toc_window_display": true
  }
 },
 "nbformat": 4,
 "nbformat_minor": 5
}
