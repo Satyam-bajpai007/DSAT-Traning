{
 "cells": [
  {
   "cell_type": "markdown",
   "id": "1ddc2166",
   "metadata": {
    "toc": true
   },
   "source": [
    "<h1>Table of Contents<span class=\"tocSkip\"></span></h1>\n",
    "<div class=\"toc\"><ul class=\"toc-item\"><li><ul class=\"toc-item\"><li><span><a href=\"#Scaleing-Numerical-Vars\" data-toc-modified-id=\"Scaleing-Numerical-Vars-0.1\"><span class=\"toc-item-num\">0.1&nbsp;&nbsp;</span>Scaleing Numerical Vars</a></span></li></ul></li><li><span><a href=\"#Import-grid-serach-cv\" data-toc-modified-id=\"Import-grid-serach-cv-1\"><span class=\"toc-item-num\">1&nbsp;&nbsp;</span>Import grid serach cv</a></span></li></ul></div>"
   ]
  },
  {
   "cell_type": "code",
   "execution_count": 1,
   "id": "0dde5386",
   "metadata": {
    "ExecuteTime": {
     "end_time": "2022-07-22T12:06:35.476449Z",
     "start_time": "2022-07-22T12:06:34.490340Z"
    }
   },
   "outputs": [],
   "source": [
    "import pandas as pd\n"
   ]
  },
  {
   "cell_type": "code",
   "execution_count": 2,
   "id": "3bbd4b11",
   "metadata": {
    "ExecuteTime": {
     "end_time": "2022-07-22T12:07:00.577412Z",
     "start_time": "2022-07-22T12:07:00.511133Z"
    }
   },
   "outputs": [
    {
     "data": {
      "text/html": [
       "<div>\n",
       "<style scoped>\n",
       "    .dataframe tbody tr th:only-of-type {\n",
       "        vertical-align: middle;\n",
       "    }\n",
       "\n",
       "    .dataframe tbody tr th {\n",
       "        vertical-align: top;\n",
       "    }\n",
       "\n",
       "    .dataframe thead th {\n",
       "        text-align: right;\n",
       "    }\n",
       "</style>\n",
       "<table border=\"1\" class=\"dataframe\">\n",
       "  <thead>\n",
       "    <tr style=\"text-align: right;\">\n",
       "      <th></th>\n",
       "      <th>index</th>\n",
       "      <th>Name</th>\n",
       "      <th>Location</th>\n",
       "      <th>Year</th>\n",
       "      <th>Kilometers_Driven</th>\n",
       "      <th>Fuel_Type</th>\n",
       "      <th>Transmission</th>\n",
       "      <th>Owner_Type</th>\n",
       "      <th>Mileage</th>\n",
       "      <th>Engine</th>\n",
       "      <th>Power</th>\n",
       "      <th>Seats</th>\n",
       "      <th>New_Price</th>\n",
       "      <th>Price</th>\n",
       "      <th>age</th>\n",
       "      <th>KM_Driven</th>\n",
       "      <th>make</th>\n",
       "      <th>mileage_new</th>\n",
       "      <th>engine_new</th>\n",
       "      <th>power_new</th>\n",
       "    </tr>\n",
       "  </thead>\n",
       "  <tbody>\n",
       "    <tr>\n",
       "      <th>0</th>\n",
       "      <td>2</td>\n",
       "      <td>Honda Jazz V</td>\n",
       "      <td>Chennai</td>\n",
       "      <td>2011</td>\n",
       "      <td>46000</td>\n",
       "      <td>Petrol</td>\n",
       "      <td>Manual</td>\n",
       "      <td>First</td>\n",
       "      <td>18.2 kmpl</td>\n",
       "      <td>1199 CC</td>\n",
       "      <td>88.7 bhp</td>\n",
       "      <td>5.0</td>\n",
       "      <td>8.61 Lakh</td>\n",
       "      <td>4.50</td>\n",
       "      <td>8</td>\n",
       "      <td>46</td>\n",
       "      <td>honda</td>\n",
       "      <td>18.20</td>\n",
       "      <td>1199.0</td>\n",
       "      <td>88.70</td>\n",
       "    </tr>\n",
       "    <tr>\n",
       "      <th>1</th>\n",
       "      <td>3</td>\n",
       "      <td>Maruti Ertiga VDI</td>\n",
       "      <td>Chennai</td>\n",
       "      <td>2012</td>\n",
       "      <td>87000</td>\n",
       "      <td>Diesel</td>\n",
       "      <td>Manual</td>\n",
       "      <td>First</td>\n",
       "      <td>20.77 kmpl</td>\n",
       "      <td>1248 CC</td>\n",
       "      <td>88.76 bhp</td>\n",
       "      <td>7.0</td>\n",
       "      <td>NaN</td>\n",
       "      <td>6.00</td>\n",
       "      <td>7</td>\n",
       "      <td>87</td>\n",
       "      <td>maruti</td>\n",
       "      <td>20.77</td>\n",
       "      <td>1248.0</td>\n",
       "      <td>88.76</td>\n",
       "    </tr>\n",
       "    <tr>\n",
       "      <th>2</th>\n",
       "      <td>6</td>\n",
       "      <td>Nissan Micra Diesel XV</td>\n",
       "      <td>Jaipur</td>\n",
       "      <td>2013</td>\n",
       "      <td>86999</td>\n",
       "      <td>Diesel</td>\n",
       "      <td>Manual</td>\n",
       "      <td>First</td>\n",
       "      <td>23.08 kmpl</td>\n",
       "      <td>1461 CC</td>\n",
       "      <td>63.1 bhp</td>\n",
       "      <td>5.0</td>\n",
       "      <td>NaN</td>\n",
       "      <td>3.50</td>\n",
       "      <td>6</td>\n",
       "      <td>86</td>\n",
       "      <td>nissan</td>\n",
       "      <td>23.08</td>\n",
       "      <td>1461.0</td>\n",
       "      <td>63.10</td>\n",
       "    </tr>\n",
       "    <tr>\n",
       "      <th>3</th>\n",
       "      <td>9</td>\n",
       "      <td>Tata Indica Vista Quadrajet LS</td>\n",
       "      <td>Chennai</td>\n",
       "      <td>2012</td>\n",
       "      <td>65932</td>\n",
       "      <td>Diesel</td>\n",
       "      <td>Manual</td>\n",
       "      <td>Second</td>\n",
       "      <td>22.3 kmpl</td>\n",
       "      <td>1248 CC</td>\n",
       "      <td>74 bhp</td>\n",
       "      <td>5.0</td>\n",
       "      <td>NaN</td>\n",
       "      <td>1.95</td>\n",
       "      <td>7</td>\n",
       "      <td>65</td>\n",
       "      <td>tata</td>\n",
       "      <td>22.30</td>\n",
       "      <td>1248.0</td>\n",
       "      <td>74.00</td>\n",
       "    </tr>\n",
       "    <tr>\n",
       "      <th>4</th>\n",
       "      <td>12</td>\n",
       "      <td>Maruti Swift VDI BSIV</td>\n",
       "      <td>Jaipur</td>\n",
       "      <td>2015</td>\n",
       "      <td>64424</td>\n",
       "      <td>Diesel</td>\n",
       "      <td>Manual</td>\n",
       "      <td>First</td>\n",
       "      <td>25.2 kmpl</td>\n",
       "      <td>1248 CC</td>\n",
       "      <td>74 bhp</td>\n",
       "      <td>5.0</td>\n",
       "      <td>NaN</td>\n",
       "      <td>5.60</td>\n",
       "      <td>4</td>\n",
       "      <td>64</td>\n",
       "      <td>maruti</td>\n",
       "      <td>25.20</td>\n",
       "      <td>1248.0</td>\n",
       "      <td>74.00</td>\n",
       "    </tr>\n",
       "  </tbody>\n",
       "</table>\n",
       "</div>"
      ],
      "text/plain": [
       "   index                            Name Location  Year  Kilometers_Driven  \\\n",
       "0      2                    Honda Jazz V  Chennai  2011              46000   \n",
       "1      3               Maruti Ertiga VDI  Chennai  2012              87000   \n",
       "2      6          Nissan Micra Diesel XV   Jaipur  2013              86999   \n",
       "3      9  Tata Indica Vista Quadrajet LS  Chennai  2012              65932   \n",
       "4     12           Maruti Swift VDI BSIV   Jaipur  2015              64424   \n",
       "\n",
       "  Fuel_Type Transmission Owner_Type     Mileage   Engine      Power  Seats  \\\n",
       "0    Petrol       Manual      First   18.2 kmpl  1199 CC   88.7 bhp    5.0   \n",
       "1    Diesel       Manual      First  20.77 kmpl  1248 CC  88.76 bhp    7.0   \n",
       "2    Diesel       Manual      First  23.08 kmpl  1461 CC   63.1 bhp    5.0   \n",
       "3    Diesel       Manual     Second   22.3 kmpl  1248 CC     74 bhp    5.0   \n",
       "4    Diesel       Manual      First   25.2 kmpl  1248 CC     74 bhp    5.0   \n",
       "\n",
       "   New_Price  Price  age  KM_Driven    make  mileage_new  engine_new  \\\n",
       "0  8.61 Lakh   4.50    8         46   honda        18.20      1199.0   \n",
       "1        NaN   6.00    7         87  maruti        20.77      1248.0   \n",
       "2        NaN   3.50    6         86  nissan        23.08      1461.0   \n",
       "3        NaN   1.95    7         65    tata        22.30      1248.0   \n",
       "4        NaN   5.60    4         64  maruti        25.20      1248.0   \n",
       "\n",
       "   power_new  \n",
       "0      88.70  \n",
       "1      88.76  \n",
       "2      63.10  \n",
       "3      74.00  \n",
       "4      74.00  "
      ]
     },
     "execution_count": 2,
     "metadata": {},
     "output_type": "execute_result"
    }
   ],
   "source": [
    "df = pd.read_csv('new_used_car_v1.csv')\n",
    "df.head()"
   ]
  },
  {
   "cell_type": "code",
   "execution_count": 3,
   "id": "329b29fd",
   "metadata": {
    "ExecuteTime": {
     "end_time": "2022-07-22T12:12:06.111306Z",
     "start_time": "2022-07-22T12:12:06.069961Z"
    }
   },
   "outputs": [
    {
     "name": "stdout",
     "output_type": "stream",
     "text": [
      "<class 'pandas.core.frame.DataFrame'>\n",
      "RangeIndex: 3092 entries, 0 to 3091\n",
      "Data columns (total 20 columns):\n",
      " #   Column             Non-Null Count  Dtype  \n",
      "---  ------             --------------  -----  \n",
      " 0   index              3092 non-null   int64  \n",
      " 1   Name               3092 non-null   object \n",
      " 2   Location           3092 non-null   object \n",
      " 3   Year               3092 non-null   int64  \n",
      " 4   Kilometers_Driven  3092 non-null   int64  \n",
      " 5   Fuel_Type          3092 non-null   object \n",
      " 6   Transmission       3092 non-null   object \n",
      " 7   Owner_Type         3092 non-null   object \n",
      " 8   Mileage            3092 non-null   object \n",
      " 9   Engine             3092 non-null   object \n",
      " 10  Power              3092 non-null   object \n",
      " 11  Seats              3091 non-null   float64\n",
      " 12  New_Price          411 non-null    object \n",
      " 13  Price              3092 non-null   float64\n",
      " 14  age                3092 non-null   int64  \n",
      " 15  KM_Driven          3092 non-null   int64  \n",
      " 16  make               3092 non-null   object \n",
      " 17  mileage_new        3092 non-null   float64\n",
      " 18  engine_new         3092 non-null   float64\n",
      " 19  power_new          3092 non-null   float64\n",
      "dtypes: float64(5), int64(5), object(10)\n",
      "memory usage: 483.2+ KB\n"
     ]
    }
   ],
   "source": [
    "df.info()"
   ]
  },
  {
   "cell_type": "code",
   "execution_count": 4,
   "id": "54bfe69c",
   "metadata": {
    "ExecuteTime": {
     "end_time": "2022-07-22T12:12:26.585952Z",
     "start_time": "2022-07-22T12:12:26.553752Z"
    }
   },
   "outputs": [
    {
     "data": {
      "text/plain": [
       "index                   0\n",
       "Name                    0\n",
       "Location                0\n",
       "Year                    0\n",
       "Kilometers_Driven       0\n",
       "Fuel_Type               0\n",
       "Transmission            0\n",
       "Owner_Type              0\n",
       "Mileage                 0\n",
       "Engine                  0\n",
       "Power                   0\n",
       "Seats                   1\n",
       "New_Price            2681\n",
       "Price                   0\n",
       "age                     0\n",
       "KM_Driven               0\n",
       "make                    0\n",
       "mileage_new             0\n",
       "engine_new              0\n",
       "power_new               0\n",
       "dtype: int64"
      ]
     },
     "execution_count": 4,
     "metadata": {},
     "output_type": "execute_result"
    }
   ],
   "source": [
    "df.isnull().sum()"
   ]
  },
  {
   "cell_type": "code",
   "execution_count": 5,
   "id": "bacc80c0",
   "metadata": {
    "ExecuteTime": {
     "end_time": "2022-07-22T12:13:43.501288Z",
     "start_time": "2022-07-22T12:13:43.478168Z"
    }
   },
   "outputs": [
    {
     "data": {
      "text/plain": [
       "Index(['index', 'Name', 'Location', 'Year', 'Kilometers_Driven', 'Fuel_Type',\n",
       "       'Transmission', 'Owner_Type', 'Mileage', 'Engine', 'Power', 'Seats',\n",
       "       'New_Price', 'Price', 'age', 'KM_Driven', 'make', 'mileage_new',\n",
       "       'engine_new', 'power_new'],\n",
       "      dtype='object')"
      ]
     },
     "execution_count": 5,
     "metadata": {},
     "output_type": "execute_result"
    }
   ],
   "source": [
    "df.columns"
   ]
  },
  {
   "cell_type": "code",
   "execution_count": 16,
   "id": "6508fdd8",
   "metadata": {
    "ExecuteTime": {
     "end_time": "2022-07-22T12:24:30.528338Z",
     "start_time": "2022-07-22T12:24:30.520388Z"
    }
   },
   "outputs": [],
   "source": [
    "x_features = ['Fuel_Type',\n",
    "       'Transmission', 'Owner_Type' , 'Seats',\n",
    "       'New_Price', 'Price', 'age', 'KM_Driven', 'make', 'mileage_new',\n",
    "       'engine_new', 'power_new']"
   ]
  },
  {
   "cell_type": "code",
   "execution_count": 17,
   "id": "28f386b4",
   "metadata": {
    "ExecuteTime": {
     "end_time": "2022-07-22T12:24:30.931238Z",
     "start_time": "2022-07-22T12:24:30.920745Z"
    }
   },
   "outputs": [],
   "source": [
    "cat_vars = ['Fuel_Type','Transmission','Owner_Type','make','Location']"
   ]
  },
  {
   "cell_type": "code",
   "execution_count": 18,
   "id": "b81a236f",
   "metadata": {
    "ExecuteTime": {
     "end_time": "2022-07-22T12:24:31.348393Z",
     "start_time": "2022-07-22T12:24:31.341123Z"
    }
   },
   "outputs": [],
   "source": [
    "num_var = set(x_features)-set(cat_vars)"
   ]
  },
  {
   "cell_type": "code",
   "execution_count": 19,
   "id": "4c0d4f75",
   "metadata": {
    "ExecuteTime": {
     "end_time": "2022-07-22T12:24:31.886109Z",
     "start_time": "2022-07-22T12:24:31.870858Z"
    }
   },
   "outputs": [
    {
     "data": {
      "text/plain": [
       "{'KM_Driven',\n",
       " 'New_Price',\n",
       " 'Price',\n",
       " 'Seats',\n",
       " 'age',\n",
       " 'engine_new',\n",
       " 'mileage_new',\n",
       " 'power_new'}"
      ]
     },
     "execution_count": 19,
     "metadata": {},
     "output_type": "execute_result"
    }
   ],
   "source": [
    "num_var"
   ]
  },
  {
   "cell_type": "code",
   "execution_count": 11,
   "id": "052f7c67",
   "metadata": {
    "ExecuteTime": {
     "end_time": "2022-07-22T12:20:45.038698Z",
     "start_time": "2022-07-22T12:20:45.021103Z"
    }
   },
   "outputs": [],
   "source": [
    "x = df[x_features]\n",
    "y = df['Price']"
   ]
  },
  {
   "cell_type": "code",
   "execution_count": 12,
   "id": "81ca9933",
   "metadata": {
    "ExecuteTime": {
     "end_time": "2022-07-22T12:21:17.365328Z",
     "start_time": "2022-07-22T12:21:17.350246Z"
    }
   },
   "outputs": [],
   "source": [
    "from sklearn.model_selection import train_test_split"
   ]
  },
  {
   "cell_type": "code",
   "execution_count": 13,
   "id": "31b684bd",
   "metadata": {
    "ExecuteTime": {
     "end_time": "2022-07-22T12:22:05.126243Z",
     "start_time": "2022-07-22T12:22:05.109990Z"
    }
   },
   "outputs": [],
   "source": [
    "xtrain,xtest,ytrain,ytest = train_test_split(x,y,test_size=0.3,random_state=100)"
   ]
  },
  {
   "cell_type": "code",
   "execution_count": 14,
   "id": "13993d1d",
   "metadata": {
    "ExecuteTime": {
     "end_time": "2022-07-22T12:22:55.476107Z",
     "start_time": "2022-07-22T12:22:55.452744Z"
    }
   },
   "outputs": [
    {
     "data": {
      "text/plain": [
       "(2164, 17)"
      ]
     },
     "execution_count": 14,
     "metadata": {},
     "output_type": "execute_result"
    }
   ],
   "source": [
    "xtrain.shape"
   ]
  },
  {
   "cell_type": "code",
   "execution_count": 15,
   "id": "b223cad8",
   "metadata": {
    "ExecuteTime": {
     "end_time": "2022-07-22T12:23:00.845384Z",
     "start_time": "2022-07-22T12:23:00.837330Z"
    }
   },
   "outputs": [
    {
     "data": {
      "text/plain": [
       "(928, 17)"
      ]
     },
     "execution_count": 15,
     "metadata": {},
     "output_type": "execute_result"
    }
   ],
   "source": [
    "xtest.shape"
   ]
  },
  {
   "cell_type": "code",
   "execution_count": null,
   "id": "031c5b25",
   "metadata": {},
   "outputs": [],
   "source": [
    "import "
   ]
  },
  {
   "cell_type": "code",
   "execution_count": null,
   "id": "c5ef42be",
   "metadata": {},
   "outputs": [],
   "source": []
  },
  {
   "cell_type": "code",
   "execution_count": null,
   "id": "f78df9c4",
   "metadata": {},
   "outputs": [],
   "source": []
  },
  {
   "cell_type": "code",
   "execution_count": null,
   "id": "d79aa73b",
   "metadata": {},
   "outputs": [],
   "source": []
  },
  {
   "cell_type": "code",
   "execution_count": 26,
   "id": "dc1a0ab8",
   "metadata": {
    "ExecuteTime": {
     "end_time": "2022-07-22T12:31:19.315302Z",
     "start_time": "2022-07-22T12:31:19.291283Z"
    }
   },
   "outputs": [
    {
     "data": {
      "application/javascript": [
       "\n",
       "        if (window._pyforest_update_imports_cell) { window._pyforest_update_imports_cell('from sklearn.impute import SimpleImputer'); }\n",
       "    "
      ],
      "text/plain": [
       "<IPython.core.display.Javascript object>"
      ]
     },
     "metadata": {},
     "output_type": "display_data"
    }
   ],
   "source": [
    "mean_imputer = SimpleImputer(strategy='mean')"
   ]
  },
  {
   "cell_type": "code",
   "execution_count": 20,
   "id": "216e37a5",
   "metadata": {
    "ExecuteTime": {
     "end_time": "2022-07-22T12:26:11.907004Z",
     "start_time": "2022-07-22T12:26:11.899005Z"
    }
   },
   "outputs": [],
   "source": [
    "from sklearn.preprocessing import OneHotEncoder"
   ]
  },
  {
   "cell_type": "code",
   "execution_count": 21,
   "id": "411a82f0",
   "metadata": {
    "ExecuteTime": {
     "end_time": "2022-07-22T12:26:48.461632Z",
     "start_time": "2022-07-22T12:26:48.454399Z"
    }
   },
   "outputs": [],
   "source": [
    "ohe_encoder = OneHotEncoder(handle_unknown='ignore')"
   ]
  },
  {
   "cell_type": "markdown",
   "id": "c5d96f60",
   "metadata": {},
   "source": [
    "### Scaleing Numerical Vars"
   ]
  },
  {
   "cell_type": "code",
   "execution_count": 24,
   "id": "286f78d5",
   "metadata": {
    "ExecuteTime": {
     "end_time": "2022-07-22T12:29:03.660571Z",
     "start_time": "2022-07-22T12:29:03.650793Z"
    }
   },
   "outputs": [],
   "source": [
    "from sklearn.preprocessing import StandardScaler\n",
    "scaler = StandardScaler()"
   ]
  },
  {
   "cell_type": "code",
   "execution_count": 25,
   "id": "75198da7",
   "metadata": {
    "ExecuteTime": {
     "end_time": "2022-07-22T12:29:54.777997Z",
     "start_time": "2022-07-22T12:29:54.771251Z"
    }
   },
   "outputs": [],
   "source": [
    "from sklearn.compose import ColumnTransformer\n",
    "from sklearn.pipeline import Pipeline"
   ]
  },
  {
   "cell_type": "code",
   "execution_count": 27,
   "id": "d7ffa5fe",
   "metadata": {
    "ExecuteTime": {
     "end_time": "2022-07-22T12:31:56.875263Z",
     "start_time": "2022-07-22T12:31:56.859280Z"
    }
   },
   "outputs": [],
   "source": [
    "imputed_num_transformer = Pipeline(steps=[\n",
    "    ('imputation',mean_imputer),\n",
    "    ('scaler', scaler)\n",
    "])"
   ]
  },
  {
   "cell_type": "code",
   "execution_count": 28,
   "id": "ca00788b",
   "metadata": {
    "ExecuteTime": {
     "end_time": "2022-07-22T12:32:06.417556Z",
     "start_time": "2022-07-22T12:32:06.402730Z"
    }
   },
   "outputs": [
    {
     "data": {
      "text/plain": [
       "Pipeline(steps=[('imputation', SimpleImputer()), ('scaler', StandardScaler())])"
      ]
     },
     "execution_count": 28,
     "metadata": {},
     "output_type": "execute_result"
    }
   ],
   "source": [
    "imputed_num_transformer"
   ]
  },
  {
   "cell_type": "code",
   "execution_count": 29,
   "id": "112fdd08",
   "metadata": {
    "ExecuteTime": {
     "end_time": "2022-07-22T12:33:09.413941Z",
     "start_time": "2022-07-22T12:33:09.405943Z"
    }
   },
   "outputs": [],
   "source": [
    "non_imputed_num_transformer = Pipeline([\n",
    "    ('scaler',scaler)\n",
    "])"
   ]
  },
  {
   "cell_type": "code",
   "execution_count": 30,
   "id": "ac7464e6",
   "metadata": {
    "ExecuteTime": {
     "end_time": "2022-07-22T12:34:03.503870Z",
     "start_time": "2022-07-22T12:34:03.478334Z"
    }
   },
   "outputs": [],
   "source": [
    "cat_transformer = Pipeline(steps = [('ohencoder',ohe_encoder)])"
   ]
  },
  {
   "cell_type": "code",
   "execution_count": null,
   "id": "46af93b1",
   "metadata": {},
   "outputs": [],
   "source": [
    "preprocessor = ColumnTransformer(\n",
    "transformers=[\n",
    "    ('num_imputed',imputed_num_transformer, imputed_num_vars),\n",
    "    ('num_not_imputer',non_imputed_num_transformer, non_imputed_num_vars)\n",
    "])"
   ]
  },
  {
   "cell_type": "code",
   "execution_count": 33,
   "id": "dd9bd3d2",
   "metadata": {
    "ExecuteTime": {
     "end_time": "2022-07-22T12:40:25.290227Z",
     "start_time": "2022-07-22T12:40:25.256944Z"
    }
   },
   "outputs": [
    {
     "ename": "NameError",
     "evalue": "name 'preprocessor' is not defined",
     "output_type": "error",
     "traceback": [
      "\u001b[1;31m---------------------------------------------------------------------------\u001b[0m",
      "\u001b[1;31mNameError\u001b[0m                                 Traceback (most recent call last)",
      "Input \u001b[1;32mIn [33]\u001b[0m, in \u001b[0;36m<cell line: 1>\u001b[1;34m()\u001b[0m\n\u001b[1;32m----> 1\u001b[0m \u001b[43mpreprocessor\u001b[49m\n",
      "\u001b[1;31mNameError\u001b[0m: name 'preprocessor' is not defined"
     ]
    }
   ],
   "source": [
    "preprocessor"
   ]
  },
  {
   "cell_type": "code",
   "execution_count": 31,
   "id": "2f5b3afe",
   "metadata": {
    "ExecuteTime": {
     "end_time": "2022-07-22T12:38:49.799215Z",
     "start_time": "2022-07-22T12:38:49.786265Z"
    }
   },
   "outputs": [],
   "source": [
    "from sklearn.neighbors import KNeighborsRegressor"
   ]
  },
  {
   "cell_type": "code",
   "execution_count": 32,
   "id": "9a27dba2",
   "metadata": {
    "ExecuteTime": {
     "end_time": "2022-07-22T12:39:34.404251Z",
     "start_time": "2022-07-22T12:39:34.388455Z"
    }
   },
   "outputs": [],
   "source": [
    "knn = KNeighborsRegressor(n_neighbors=20,weights='distance')"
   ]
  },
  {
   "cell_type": "code",
   "execution_count": null,
   "id": "22ec7089",
   "metadata": {},
   "outputs": [],
   "source": [
    "knn_v1 = Pipeline(steps=[('preprocessor',preprocessor),('knn',knn)])"
   ]
  },
  {
   "cell_type": "code",
   "execution_count": null,
   "id": "4b2dd254",
   "metadata": {},
   "outputs": [],
   "source": [
    "knn_v1.fit(xtrain,ytrain)"
   ]
  },
  {
   "cell_type": "code",
   "execution_count": 34,
   "id": "a0db7aed",
   "metadata": {
    "ExecuteTime": {
     "end_time": "2022-07-22T12:43:27.609727Z",
     "start_time": "2022-07-22T12:43:27.594336Z"
    }
   },
   "outputs": [],
   "source": [
    "from sklearn import set_config\n",
    "set_config(display='diagram')"
   ]
  },
  {
   "cell_type": "code",
   "execution_count": 35,
   "id": "83443130",
   "metadata": {
    "ExecuteTime": {
     "end_time": "2022-07-22T12:44:09.496438Z",
     "start_time": "2022-07-22T12:44:09.472437Z"
    }
   },
   "outputs": [],
   "source": [
    "from sklearn.model_selection import cross_val_score"
   ]
  },
  {
   "cell_type": "code",
   "execution_count": 36,
   "id": "9c7b46ca",
   "metadata": {
    "ExecuteTime": {
     "end_time": "2022-07-22T12:45:20.578945Z",
     "start_time": "2022-07-22T12:45:20.538188Z"
    }
   },
   "outputs": [
    {
     "ename": "NameError",
     "evalue": "name 'knn_v1' is not defined",
     "output_type": "error",
     "traceback": [
      "\u001b[1;31m---------------------------------------------------------------------------\u001b[0m",
      "\u001b[1;31mNameError\u001b[0m                                 Traceback (most recent call last)",
      "Input \u001b[1;32mIn [36]\u001b[0m, in \u001b[0;36m<cell line: 1>\u001b[1;34m()\u001b[0m\n\u001b[1;32m----> 1\u001b[0m score \u001b[38;5;241m=\u001b[39m cross_val_score(\u001b[43mknn_v1\u001b[49m,xtrain,ytrain,cv\u001b[38;5;241m=\u001b[39m\u001b[38;5;241m10\u001b[39m,scoring\u001b[38;5;241m=\u001b[39m\u001b[38;5;124m'\u001b[39m\u001b[38;5;124mr2\u001b[39m\u001b[38;5;124m'\u001b[39m)\n",
      "\u001b[1;31mNameError\u001b[0m: name 'knn_v1' is not defined"
     ]
    }
   ],
   "source": [
    "score = cross_val_score(knn_v1,xtrain,ytrain,cv=10,scoring='r2')"
   ]
  },
  {
   "cell_type": "code",
   "execution_count": null,
   "id": "3aef85bc",
   "metadata": {},
   "outputs": [],
   "source": [
    "score"
   ]
  },
  {
   "cell_type": "code",
   "execution_count": null,
   "id": "23895e69",
   "metadata": {},
   "outputs": [],
   "source": [
    "score.mean()"
   ]
  },
  {
   "cell_type": "code",
   "execution_count": null,
   "id": "7f2be9c4",
   "metadata": {},
   "outputs": [],
   "source": [
    "score.std()"
   ]
  },
  {
   "cell_type": "markdown",
   "id": "d05502ad",
   "metadata": {},
   "source": [
    "## Import grid serach cv"
   ]
  },
  {
   "cell_type": "code",
   "execution_count": 37,
   "id": "dab963a1",
   "metadata": {
    "ExecuteTime": {
     "end_time": "2022-07-22T12:48:56.090864Z",
     "start_time": "2022-07-22T12:48:56.074652Z"
    }
   },
   "outputs": [],
   "source": [
    "from sklearn.model_selection import GridSearchCV"
   ]
  },
  {
   "cell_type": "code",
   "execution_count": null,
   "id": "04be8ea9",
   "metadata": {},
   "outputs": [],
   "source": [
    "knn_params = {\n",
    "    \"knn_n_neighbors\":[5,10,15,20,25],\n",
    "    \"knn_weights\":['uniform','distance'],\n",
    "    \"knn_\"\n",
    "}"
   ]
  }
 ],
 "metadata": {
  "kernelspec": {
   "display_name": "Python 3 (ipykernel)",
   "language": "python",
   "name": "python3"
  },
  "language_info": {
   "codemirror_mode": {
    "name": "ipython",
    "version": 3
   },
   "file_extension": ".py",
   "mimetype": "text/x-python",
   "name": "python",
   "nbconvert_exporter": "python",
   "pygments_lexer": "ipython3",
   "version": "3.9.7"
  },
  "toc": {
   "base_numbering": 1,
   "nav_menu": {},
   "number_sections": true,
   "sideBar": true,
   "skip_h1_title": false,
   "title_cell": "Table of Contents",
   "title_sidebar": "Contents",
   "toc_cell": true,
   "toc_position": {},
   "toc_section_display": true,
   "toc_window_display": true
  }
 },
 "nbformat": 4,
 "nbformat_minor": 5
}
