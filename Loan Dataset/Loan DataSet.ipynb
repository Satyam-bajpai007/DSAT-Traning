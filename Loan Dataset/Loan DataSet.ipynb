{
 "cells": [
  {
   "cell_type": "markdown",
   "id": "9d8a83d9",
   "metadata": {
    "toc": true
   },
   "source": [
    "<h1>Table of Contents<span class=\"tocSkip\"></span></h1>\n",
    "<div class=\"toc\"><ul class=\"toc-item\"><li><span><a href=\"#Train-Data\" data-toc-modified-id=\"Train-Data-1\"><span class=\"toc-item-num\">1&nbsp;&nbsp;</span>Train Data</a></span><ul class=\"toc-item\"><li><span><a href=\"#Train-Data-Analysis\" data-toc-modified-id=\"Train-Data-Analysis-1.1\"><span class=\"toc-item-num\">1.1&nbsp;&nbsp;</span>Train Data Analysis</a></span></li><li><span><a href=\"#Corelation-of-Data\" data-toc-modified-id=\"Corelation-of-Data-1.2\"><span class=\"toc-item-num\">1.2&nbsp;&nbsp;</span>Corelation of Data</a></span></li><li><span><a href=\"#Removing-Outlier\" data-toc-modified-id=\"Removing-Outlier-1.3\"><span class=\"toc-item-num\">1.3&nbsp;&nbsp;</span>Removing Outlier</a></span></li><li><span><a href=\"#One-Hot-Encoding\" data-toc-modified-id=\"One-Hot-Encoding-1.4\"><span class=\"toc-item-num\">1.4&nbsp;&nbsp;</span>One Hot Encoding</a></span></li><li><span><a href=\"#Filling-Empty-Data-With-Its-Mean\" data-toc-modified-id=\"Filling-Empty-Data-With-Its-Mean-1.5\"><span class=\"toc-item-num\">1.5&nbsp;&nbsp;</span>Filling Empty Data With Its Mean</a></span></li><li><span><a href=\"#Removing-Less-Priority-Column\" data-toc-modified-id=\"Removing-Less-Priority-Column-1.6\"><span class=\"toc-item-num\">1.6&nbsp;&nbsp;</span>Removing Less Priority Column</a></span></li></ul></li><li><span><a href=\"#Test-Data\" data-toc-modified-id=\"Test-Data-2\"><span class=\"toc-item-num\">2&nbsp;&nbsp;</span>Test Data</a></span><ul class=\"toc-item\"><li><span><a href=\"#Test-Data-Analysis\" data-toc-modified-id=\"Test-Data-Analysis-2.1\"><span class=\"toc-item-num\">2.1&nbsp;&nbsp;</span>Test Data Analysis</a></span></li><li><span><a href=\"#Filling-Empty-Data-With-Its-Mean\" data-toc-modified-id=\"Filling-Empty-Data-With-Its-Mean-2.2\"><span class=\"toc-item-num\">2.2&nbsp;&nbsp;</span>Filling Empty Data With Its Mean</a></span></li><li><span><a href=\"#One-Hot-Encoding\" data-toc-modified-id=\"One-Hot-Encoding-2.3\"><span class=\"toc-item-num\">2.3&nbsp;&nbsp;</span>One Hot Encoding</a></span></li><li><span><a href=\"#Remove\" data-toc-modified-id=\"Remove-2.4\"><span class=\"toc-item-num\">2.4&nbsp;&nbsp;</span>Remove</a></span></li></ul></li><li><span><a href=\"#Smote\" data-toc-modified-id=\"Smote-3\"><span class=\"toc-item-num\">3&nbsp;&nbsp;</span>Smote</a></span></li><li><span><a href=\"#Train-Data\" data-toc-modified-id=\"Train-Data-4\"><span class=\"toc-item-num\">4&nbsp;&nbsp;</span>Train Data</a></span><ul class=\"toc-item\"><li><span><a href=\"#Using-Multnomial-Naive-Bayse-Classifier\" data-toc-modified-id=\"Using-Multnomial-Naive-Bayse-Classifier-4.1\"><span class=\"toc-item-num\">4.1&nbsp;&nbsp;</span>Using Multnomial Naive Bayse Classifier</a></span></li><li><span><a href=\"#Using-Grid-Search-Cross-Validation\" data-toc-modified-id=\"Using-Grid-Search-Cross-Validation-4.2\"><span class=\"toc-item-num\">4.2&nbsp;&nbsp;</span>Using Grid Search Cross Validation</a></span></li><li><span><a href=\"#Checking-Column-Data-Size\" data-toc-modified-id=\"Checking-Column-Data-Size-4.3\"><span class=\"toc-item-num\">4.3&nbsp;&nbsp;</span>Checking Column Data Size</a></span></li></ul></li><li><span><a href=\"#Predicting-Test-Case-Value\" data-toc-modified-id=\"Predicting-Test-Case-Value-5\"><span class=\"toc-item-num\">5&nbsp;&nbsp;</span>Predicting Test Case Value</a></span></li><li><span><a href=\"#Predicting-Model-Score\" data-toc-modified-id=\"Predicting-Model-Score-6\"><span class=\"toc-item-num\">6&nbsp;&nbsp;</span>Predicting Model Score</a></span></li><li><span><a href=\"#Editing-the-Value-in-CSV-file\" data-toc-modified-id=\"Editing-the-Value-in-CSV-file-7\"><span class=\"toc-item-num\">7&nbsp;&nbsp;</span>Editing the Value in CSV file</a></span></li></ul></div>"
   ]
  },
  {
   "cell_type": "code",
   "execution_count": 1,
   "id": "6f054af7",
   "metadata": {
    "ExecuteTime": {
     "end_time": "2022-07-31T18:24:28.568546Z",
     "start_time": "2022-07-31T18:24:26.315376Z"
    }
   },
   "outputs": [],
   "source": [
    "import pandas as pd\n",
    "import numpy as np\n",
    "import matplotlib.pyplot as plt\n",
    "import seaborn as snb"
   ]
  },
  {
   "cell_type": "markdown",
   "id": "85da5093",
   "metadata": {},
   "source": [
    "# Train Data"
   ]
  },
  {
   "cell_type": "markdown",
   "id": "13b02b4f",
   "metadata": {},
   "source": [
    "## Train Data Analysis"
   ]
  },
  {
   "cell_type": "code",
   "execution_count": 2,
   "id": "b81f256c",
   "metadata": {
    "ExecuteTime": {
     "end_time": "2022-07-31T18:24:28.600550Z",
     "start_time": "2022-07-31T18:24:28.570548Z"
    }
   },
   "outputs": [
    {
     "data": {
      "text/html": [
       "<div>\n",
       "<style scoped>\n",
       "    .dataframe tbody tr th:only-of-type {\n",
       "        vertical-align: middle;\n",
       "    }\n",
       "\n",
       "    .dataframe tbody tr th {\n",
       "        vertical-align: top;\n",
       "    }\n",
       "\n",
       "    .dataframe thead th {\n",
       "        text-align: right;\n",
       "    }\n",
       "</style>\n",
       "<table border=\"1\" class=\"dataframe\">\n",
       "  <thead>\n",
       "    <tr style=\"text-align: right;\">\n",
       "      <th></th>\n",
       "      <th>loan_id</th>\n",
       "      <th>age</th>\n",
       "      <th>education</th>\n",
       "      <th>proof_submitted</th>\n",
       "      <th>loan_amount</th>\n",
       "      <th>asset_cost</th>\n",
       "      <th>no_of_loans</th>\n",
       "      <th>no_of_curr_loans</th>\n",
       "      <th>last_delinq_none</th>\n",
       "      <th>loan_default</th>\n",
       "    </tr>\n",
       "  </thead>\n",
       "  <tbody>\n",
       "    <tr>\n",
       "      <th>0</th>\n",
       "      <td>1</td>\n",
       "      <td>27</td>\n",
       "      <td>1.0</td>\n",
       "      <td>Aadhar</td>\n",
       "      <td>504264</td>\n",
       "      <td>820920</td>\n",
       "      <td>2</td>\n",
       "      <td>2</td>\n",
       "      <td>0</td>\n",
       "      <td>0</td>\n",
       "    </tr>\n",
       "    <tr>\n",
       "      <th>1</th>\n",
       "      <td>2</td>\n",
       "      <td>48</td>\n",
       "      <td>1.0</td>\n",
       "      <td>Aadhar</td>\n",
       "      <td>728556</td>\n",
       "      <td>831444</td>\n",
       "      <td>6</td>\n",
       "      <td>2</td>\n",
       "      <td>0</td>\n",
       "      <td>0</td>\n",
       "    </tr>\n",
       "    <tr>\n",
       "      <th>2</th>\n",
       "      <td>3</td>\n",
       "      <td>30</td>\n",
       "      <td>2.0</td>\n",
       "      <td>VoterID</td>\n",
       "      <td>642936</td>\n",
       "      <td>826092</td>\n",
       "      <td>0</td>\n",
       "      <td>0</td>\n",
       "      <td>0</td>\n",
       "      <td>1</td>\n",
       "    </tr>\n",
       "    <tr>\n",
       "      <th>3</th>\n",
       "      <td>4</td>\n",
       "      <td>28</td>\n",
       "      <td>1.0</td>\n",
       "      <td>Aadhar</td>\n",
       "      <td>746556</td>\n",
       "      <td>930924</td>\n",
       "      <td>0</td>\n",
       "      <td>0</td>\n",
       "      <td>0</td>\n",
       "      <td>0</td>\n",
       "    </tr>\n",
       "    <tr>\n",
       "      <th>4</th>\n",
       "      <td>5</td>\n",
       "      <td>29</td>\n",
       "      <td>1.0</td>\n",
       "      <td>Aadhar</td>\n",
       "      <td>1139880</td>\n",
       "      <td>1902000</td>\n",
       "      <td>0</td>\n",
       "      <td>0</td>\n",
       "      <td>0</td>\n",
       "      <td>0</td>\n",
       "    </tr>\n",
       "  </tbody>\n",
       "</table>\n",
       "</div>"
      ],
      "text/plain": [
       "   loan_id  age  education proof_submitted  loan_amount  asset_cost  \\\n",
       "0        1   27        1.0          Aadhar       504264      820920   \n",
       "1        2   48        1.0          Aadhar       728556      831444   \n",
       "2        3   30        2.0         VoterID       642936      826092   \n",
       "3        4   28        1.0          Aadhar       746556      930924   \n",
       "4        5   29        1.0          Aadhar      1139880     1902000   \n",
       "\n",
       "   no_of_loans  no_of_curr_loans  last_delinq_none  loan_default  \n",
       "0            2                 2                 0             0  \n",
       "1            6                 2                 0             0  \n",
       "2            0                 0                 0             1  \n",
       "3            0                 0                 0             0  \n",
       "4            0                 0                 0             0  "
      ]
     },
     "execution_count": 2,
     "metadata": {},
     "output_type": "execute_result"
    }
   ],
   "source": [
    "df = pd.read_csv('train.csv')\n",
    "df.head()"
   ]
  },
  {
   "cell_type": "code",
   "execution_count": 3,
   "id": "00393499",
   "metadata": {
    "ExecuteTime": {
     "end_time": "2022-07-31T18:24:28.632556Z",
     "start_time": "2022-07-31T18:24:28.602554Z"
    }
   },
   "outputs": [
    {
     "name": "stdout",
     "output_type": "stream",
     "text": [
      "<class 'pandas.core.frame.DataFrame'>\n",
      "RangeIndex: 7000 entries, 0 to 6999\n",
      "Data columns (total 10 columns):\n",
      " #   Column            Non-Null Count  Dtype  \n",
      "---  ------            --------------  -----  \n",
      " 0   loan_id           7000 non-null   int64  \n",
      " 1   age               7000 non-null   int64  \n",
      " 2   education         6755 non-null   float64\n",
      " 3   proof_submitted   7000 non-null   object \n",
      " 4   loan_amount       7000 non-null   int64  \n",
      " 5   asset_cost        7000 non-null   int64  \n",
      " 6   no_of_loans       7000 non-null   int64  \n",
      " 7   no_of_curr_loans  7000 non-null   int64  \n",
      " 8   last_delinq_none  7000 non-null   int64  \n",
      " 9   loan_default      7000 non-null   int64  \n",
      "dtypes: float64(1), int64(8), object(1)\n",
      "memory usage: 547.0+ KB\n"
     ]
    }
   ],
   "source": [
    "df.info()"
   ]
  },
  {
   "cell_type": "code",
   "execution_count": 4,
   "id": "5f270316",
   "metadata": {
    "ExecuteTime": {
     "end_time": "2022-07-31T18:24:28.648552Z",
     "start_time": "2022-07-31T18:24:28.635553Z"
    }
   },
   "outputs": [
    {
     "data": {
      "text/plain": [
       "loan_id             7000\n",
       "age                   30\n",
       "education              2\n",
       "proof_submitted        5\n",
       "loan_amount         2655\n",
       "asset_cost          5480\n",
       "no_of_loans           57\n",
       "no_of_curr_loans      21\n",
       "last_delinq_none       2\n",
       "loan_default           2\n",
       "dtype: int64"
      ]
     },
     "execution_count": 4,
     "metadata": {},
     "output_type": "execute_result"
    }
   ],
   "source": [
    "df.nunique()"
   ]
  },
  {
   "cell_type": "code",
   "execution_count": 5,
   "id": "67d30e8a",
   "metadata": {
    "ExecuteTime": {
     "end_time": "2022-07-31T18:24:28.664556Z",
     "start_time": "2022-07-31T18:24:28.650556Z"
    }
   },
   "outputs": [
    {
     "data": {
      "text/plain": [
       "0"
      ]
     },
     "execution_count": 5,
     "metadata": {},
     "output_type": "execute_result"
    }
   ],
   "source": [
    "df.duplicated().sum()"
   ]
  },
  {
   "cell_type": "code",
   "execution_count": 6,
   "id": "cf06b699",
   "metadata": {
    "ExecuteTime": {
     "end_time": "2022-07-31T18:24:28.680555Z",
     "start_time": "2022-07-31T18:24:28.666561Z"
    }
   },
   "outputs": [
    {
     "data": {
      "text/plain": [
       "loan_id               0\n",
       "age                   0\n",
       "education           245\n",
       "proof_submitted       0\n",
       "loan_amount           0\n",
       "asset_cost            0\n",
       "no_of_loans           0\n",
       "no_of_curr_loans      0\n",
       "last_delinq_none      0\n",
       "loan_default          0\n",
       "dtype: int64"
      ]
     },
     "execution_count": 6,
     "metadata": {},
     "output_type": "execute_result"
    }
   ],
   "source": [
    "df.isna().sum()"
   ]
  },
  {
   "cell_type": "markdown",
   "id": "d8746e2f",
   "metadata": {},
   "source": [
    "##  Corelation of Data"
   ]
  },
  {
   "cell_type": "code",
   "execution_count": 7,
   "id": "3566e616",
   "metadata": {
    "ExecuteTime": {
     "end_time": "2022-07-31T18:24:28.695558Z",
     "start_time": "2022-07-31T18:24:28.682557Z"
    }
   },
   "outputs": [],
   "source": [
    "cr = df.corr()"
   ]
  },
  {
   "cell_type": "code",
   "execution_count": 8,
   "id": "1686c595",
   "metadata": {
    "ExecuteTime": {
     "end_time": "2022-07-31T18:24:29.334605Z",
     "start_time": "2022-07-31T18:24:28.697560Z"
    }
   },
   "outputs": [
    {
     "data": {
      "text/plain": [
       "<AxesSubplot:>"
      ]
     },
     "execution_count": 8,
     "metadata": {},
     "output_type": "execute_result"
    },
    {
     "data": {
      "image/png": "[encoded data removed]",
      "text/plain": [
       "<Figure size 576x432 with 2 Axes>"
      ]
     },
     "metadata": {
      "needs_background": "light"
     },
     "output_type": "display_data"
    }
   ],
   "source": [
    "plt.figure(figsize=(8,6))\n",
    "snb.heatmap(cr,annot=True)"
   ]
  },
  {
   "cell_type": "code",
   "execution_count": 9,
   "id": "3d3fd16a",
   "metadata": {
    "ExecuteTime": {
     "end_time": "2022-07-31T18:24:29.350611Z",
     "start_time": "2022-07-31T18:24:29.336607Z"
    }
   },
   "outputs": [
    {
     "data": {
      "text/plain": [
       "0    4200\n",
       "1    2800\n",
       "Name: loan_default, dtype: int64"
      ]
     },
     "execution_count": 9,
     "metadata": {},
     "output_type": "execute_result"
    }
   ],
   "source": [
    "new = df.copy(deep=True)\n",
    "new['loan_default'].value_counts()"
   ]
  },
  {
   "cell_type": "markdown",
   "id": "7b16a233",
   "metadata": {},
   "source": [
    "## Removing Outlier"
   ]
  },
  {
   "cell_type": "code",
   "execution_count": 10,
   "id": "308f6ad3",
   "metadata": {
    "ExecuteTime": {
     "end_time": "2022-07-31T18:24:29.366607Z",
     "start_time": "2022-07-31T18:24:29.353608Z"
    }
   },
   "outputs": [],
   "source": [
    "def outlier(df,ft):\n",
    "    q1 = df[ft].quantile(0.25)\n",
    "    q3 = df[ft].quantile(0.75)\n",
    "    iqr = q3 - q1\n",
    "    lower = q1 - 1.5*iqr\n",
    "    upper = q3 + 1.5*iqr\n",
    "    \n",
    "    lst = df.index[(df[ft] < lower)|(df[ft] > upper)]\n",
    "#     mean = df[ft].mean()\n",
    "#     for i in lst:\n",
    "#         df[ft].loc[i] = mean\n",
    "    return lst"
   ]
  },
  {
   "cell_type": "code",
   "execution_count": 11,
   "id": "256d244b",
   "metadata": {
    "ExecuteTime": {
     "end_time": "2022-07-31T18:24:29.382610Z",
     "start_time": "2022-07-31T18:24:29.368609Z"
    }
   },
   "outputs": [
    {
     "data": {
      "text/plain": [
       "1018"
      ]
     },
     "execution_count": 11,
     "metadata": {},
     "output_type": "execute_result"
    }
   ],
   "source": [
    "df_lst = []\n",
    "for i in ['loan_amount','asset_cost']:\n",
    "    df_lst.extend(outlier(new,i))\n",
    "len(df_lst)"
   ]
  },
  {
   "cell_type": "code",
   "execution_count": 12,
   "id": "1d45509c",
   "metadata": {
    "ExecuteTime": {
     "end_time": "2022-07-31T18:24:29.398612Z",
     "start_time": "2022-07-31T18:24:29.384612Z"
    }
   },
   "outputs": [],
   "source": [
    "def remove(df,ls):\n",
    "    ls = sorted(set(ls))\n",
    "    df = df.drop(ls)\n",
    "    return df"
   ]
  },
  {
   "cell_type": "code",
   "execution_count": 13,
   "id": "53d7c821",
   "metadata": {
    "ExecuteTime": {
     "end_time": "2022-07-31T18:24:29.430612Z",
     "start_time": "2022-07-31T18:24:29.400612Z"
    }
   },
   "outputs": [
    {
     "data": {
      "text/html": [
       "<div>\n",
       "<style scoped>\n",
       "    .dataframe tbody tr th:only-of-type {\n",
       "        vertical-align: middle;\n",
       "    }\n",
       "\n",
       "    .dataframe tbody tr th {\n",
       "        vertical-align: top;\n",
       "    }\n",
       "\n",
       "    .dataframe thead th {\n",
       "        text-align: right;\n",
       "    }\n",
       "</style>\n",
       "<table border=\"1\" class=\"dataframe\">\n",
       "  <thead>\n",
       "    <tr style=\"text-align: right;\">\n",
       "      <th></th>\n",
       "      <th>loan_id</th>\n",
       "      <th>age</th>\n",
       "      <th>education</th>\n",
       "      <th>proof_submitted</th>\n",
       "      <th>loan_amount</th>\n",
       "      <th>asset_cost</th>\n",
       "      <th>no_of_loans</th>\n",
       "      <th>no_of_curr_loans</th>\n",
       "      <th>last_delinq_none</th>\n",
       "      <th>loan_default</th>\n",
       "    </tr>\n",
       "  </thead>\n",
       "  <tbody>\n",
       "    <tr>\n",
       "      <th>0</th>\n",
       "      <td>1</td>\n",
       "      <td>27</td>\n",
       "      <td>1.0</td>\n",
       "      <td>Aadhar</td>\n",
       "      <td>504264</td>\n",
       "      <td>820920</td>\n",
       "      <td>2</td>\n",
       "      <td>2</td>\n",
       "      <td>0</td>\n",
       "      <td>0</td>\n",
       "    </tr>\n",
       "    <tr>\n",
       "      <th>1</th>\n",
       "      <td>2</td>\n",
       "      <td>48</td>\n",
       "      <td>1.0</td>\n",
       "      <td>Aadhar</td>\n",
       "      <td>728556</td>\n",
       "      <td>831444</td>\n",
       "      <td>6</td>\n",
       "      <td>2</td>\n",
       "      <td>0</td>\n",
       "      <td>0</td>\n",
       "    </tr>\n",
       "    <tr>\n",
       "      <th>2</th>\n",
       "      <td>3</td>\n",
       "      <td>30</td>\n",
       "      <td>2.0</td>\n",
       "      <td>VoterID</td>\n",
       "      <td>642936</td>\n",
       "      <td>826092</td>\n",
       "      <td>0</td>\n",
       "      <td>0</td>\n",
       "      <td>0</td>\n",
       "      <td>1</td>\n",
       "    </tr>\n",
       "    <tr>\n",
       "      <th>3</th>\n",
       "      <td>4</td>\n",
       "      <td>28</td>\n",
       "      <td>1.0</td>\n",
       "      <td>Aadhar</td>\n",
       "      <td>746556</td>\n",
       "      <td>930924</td>\n",
       "      <td>0</td>\n",
       "      <td>0</td>\n",
       "      <td>0</td>\n",
       "      <td>0</td>\n",
       "    </tr>\n",
       "    <tr>\n",
       "      <th>4</th>\n",
       "      <td>5</td>\n",
       "      <td>29</td>\n",
       "      <td>1.0</td>\n",
       "      <td>Aadhar</td>\n",
       "      <td>1139880</td>\n",
       "      <td>1902000</td>\n",
       "      <td>0</td>\n",
       "      <td>0</td>\n",
       "      <td>0</td>\n",
       "      <td>0</td>\n",
       "    </tr>\n",
       "  </tbody>\n",
       "</table>\n",
       "</div>"
      ],
      "text/plain": [
       "   loan_id  age  education proof_submitted  loan_amount  asset_cost  \\\n",
       "0        1   27        1.0          Aadhar       504264      820920   \n",
       "1        2   48        1.0          Aadhar       728556      831444   \n",
       "2        3   30        2.0         VoterID       642936      826092   \n",
       "3        4   28        1.0          Aadhar       746556      930924   \n",
       "4        5   29        1.0          Aadhar      1139880     1902000   \n",
       "\n",
       "   no_of_loans  no_of_curr_loans  last_delinq_none  loan_default  \n",
       "0            2                 2                 0             0  \n",
       "1            6                 2                 0             0  \n",
       "2            0                 0                 0             1  \n",
       "3            0                 0                 0             0  \n",
       "4            0                 0                 0             0  "
      ]
     },
     "execution_count": 13,
     "metadata": {},
     "output_type": "execute_result"
    }
   ],
   "source": [
    "new.head()"
   ]
  },
  {
   "cell_type": "code",
   "execution_count": 14,
   "id": "1c10384f",
   "metadata": {
    "ExecuteTime": {
     "end_time": "2022-07-31T18:24:29.445614Z",
     "start_time": "2022-07-31T18:24:29.432616Z"
    }
   },
   "outputs": [
    {
     "data": {
      "text/plain": [
       "array(['Aadhar', 'VoterID', 'Driving', 'PAN', 'Passport'], dtype=object)"
      ]
     },
     "execution_count": 14,
     "metadata": {},
     "output_type": "execute_result"
    }
   ],
   "source": [
    "df['proof_submitted'].unique()"
   ]
  },
  {
   "cell_type": "markdown",
   "id": "ae5bcb7d",
   "metadata": {},
   "source": [
    "## One Hot Encoding"
   ]
  },
  {
   "cell_type": "code",
   "execution_count": 15,
   "id": "c6ba8f82",
   "metadata": {
    "ExecuteTime": {
     "end_time": "2022-07-31T18:24:29.461616Z",
     "start_time": "2022-07-31T18:24:29.448614Z"
    }
   },
   "outputs": [],
   "source": [
    "new = pd.get_dummies(new, drop_first=True)\n",
    "# new = new.drop('proof_submitted',axis='columns')\n",
    "# from sklearn."
   ]
  },
  {
   "cell_type": "code",
   "execution_count": 16,
   "id": "319d05b0",
   "metadata": {
    "ExecuteTime": {
     "end_time": "2022-07-31T18:24:29.477615Z",
     "start_time": "2022-07-31T18:24:29.463618Z"
    }
   },
   "outputs": [],
   "source": [
    "tar = new.loan_default"
   ]
  },
  {
   "cell_type": "markdown",
   "id": "27db0da8",
   "metadata": {},
   "source": [
    "## Filling Empty Data With Its Mean"
   ]
  },
  {
   "cell_type": "code",
   "execution_count": 17,
   "id": "685e76ec",
   "metadata": {
    "ExecuteTime": {
     "end_time": "2022-07-31T18:24:29.493617Z",
     "start_time": "2022-07-31T18:24:29.479618Z"
    }
   },
   "outputs": [],
   "source": [
    "new = new.fillna(new.mean())"
   ]
  },
  {
   "cell_type": "code",
   "execution_count": 18,
   "id": "747d63ef",
   "metadata": {
    "ExecuteTime": {
     "end_time": "2022-07-31T18:24:29.509618Z",
     "start_time": "2022-07-31T18:24:29.495620Z"
    }
   },
   "outputs": [
    {
     "data": {
      "text/plain": [
       "(7000, 13)"
      ]
     },
     "execution_count": 18,
     "metadata": {},
     "output_type": "execute_result"
    }
   ],
   "source": [
    "new.shape"
   ]
  },
  {
   "cell_type": "code",
   "execution_count": 19,
   "id": "7fb3c086",
   "metadata": {
    "ExecuteTime": {
     "end_time": "2022-07-31T18:24:29.525619Z",
     "start_time": "2022-07-31T18:24:29.511620Z"
    }
   },
   "outputs": [
    {
     "data": {
      "text/plain": [
       "(7000,)"
      ]
     },
     "execution_count": 19,
     "metadata": {},
     "output_type": "execute_result"
    }
   ],
   "source": [
    "tar.shape"
   ]
  },
  {
   "cell_type": "markdown",
   "id": "283f7644",
   "metadata": {},
   "source": [
    "## Removing Less Priority Column"
   ]
  },
  {
   "cell_type": "code",
   "execution_count": 20,
   "id": "ce8d9f8c",
   "metadata": {
    "ExecuteTime": {
     "end_time": "2022-07-31T18:24:29.541620Z",
     "start_time": "2022-07-31T18:24:29.527623Z"
    }
   },
   "outputs": [],
   "source": [
    "new = new.drop('loan_id', axis='columns')\n",
    "new = new.drop('asset_cost',axis='columns')\n",
    "new = new.drop('loan_default',axis='columns')\n",
    "# new = new.drop('education',axis='columns')"
   ]
  },
  {
   "cell_type": "markdown",
   "id": "1839ce35",
   "metadata": {},
   "source": [
    "# Test Data"
   ]
  },
  {
   "cell_type": "code",
   "execution_count": 21,
   "id": "056542b6",
   "metadata": {
    "ExecuteTime": {
     "end_time": "2022-07-31T18:24:29.573622Z",
     "start_time": "2022-07-31T18:24:29.543622Z"
    }
   },
   "outputs": [
    {
     "data": {
      "text/html": [
       "<div>\n",
       "<style scoped>\n",
       "    .dataframe tbody tr th:only-of-type {\n",
       "        vertical-align: middle;\n",
       "    }\n",
       "\n",
       "    .dataframe tbody tr th {\n",
       "        vertical-align: top;\n",
       "    }\n",
       "\n",
       "    .dataframe thead th {\n",
       "        text-align: right;\n",
       "    }\n",
       "</style>\n",
       "<table border=\"1\" class=\"dataframe\">\n",
       "  <thead>\n",
       "    <tr style=\"text-align: right;\">\n",
       "      <th></th>\n",
       "      <th>loan_id</th>\n",
       "      <th>age</th>\n",
       "      <th>education</th>\n",
       "      <th>proof_submitted</th>\n",
       "      <th>loan_amount</th>\n",
       "      <th>asset_cost</th>\n",
       "      <th>no_of_loans</th>\n",
       "      <th>no_of_curr_loans</th>\n",
       "      <th>last_delinq_none</th>\n",
       "    </tr>\n",
       "  </thead>\n",
       "  <tbody>\n",
       "    <tr>\n",
       "      <th>0</th>\n",
       "      <td>7001</td>\n",
       "      <td>29</td>\n",
       "      <td>1.0</td>\n",
       "      <td>Aadhar</td>\n",
       "      <td>636936</td>\n",
       "      <td>768240</td>\n",
       "      <td>2</td>\n",
       "      <td>2</td>\n",
       "      <td>0</td>\n",
       "    </tr>\n",
       "    <tr>\n",
       "      <th>1</th>\n",
       "      <td>7002</td>\n",
       "      <td>28</td>\n",
       "      <td>1.0</td>\n",
       "      <td>Aadhar</td>\n",
       "      <td>548988</td>\n",
       "      <td>693060</td>\n",
       "      <td>3</td>\n",
       "      <td>3</td>\n",
       "      <td>0</td>\n",
       "    </tr>\n",
       "    <tr>\n",
       "      <th>2</th>\n",
       "      <td>7003</td>\n",
       "      <td>28</td>\n",
       "      <td>1.0</td>\n",
       "      <td>Aadhar</td>\n",
       "      <td>651756</td>\n",
       "      <td>936600</td>\n",
       "      <td>0</td>\n",
       "      <td>0</td>\n",
       "      <td>0</td>\n",
       "    </tr>\n",
       "    <tr>\n",
       "      <th>3</th>\n",
       "      <td>7004</td>\n",
       "      <td>45</td>\n",
       "      <td>2.0</td>\n",
       "      <td>Aadhar</td>\n",
       "      <td>614676</td>\n",
       "      <td>744840</td>\n",
       "      <td>4</td>\n",
       "      <td>3</td>\n",
       "      <td>0</td>\n",
       "    </tr>\n",
       "    <tr>\n",
       "      <th>4</th>\n",
       "      <td>7005</td>\n",
       "      <td>48</td>\n",
       "      <td>1.0</td>\n",
       "      <td>Aadhar</td>\n",
       "      <td>625236</td>\n",
       "      <td>839400</td>\n",
       "      <td>0</td>\n",
       "      <td>0</td>\n",
       "      <td>0</td>\n",
       "    </tr>\n",
       "  </tbody>\n",
       "</table>\n",
       "</div>"
      ],
      "text/plain": [
       "   loan_id  age  education proof_submitted  loan_amount  asset_cost  \\\n",
       "0     7001   29        1.0          Aadhar       636936      768240   \n",
       "1     7002   28        1.0          Aadhar       548988      693060   \n",
       "2     7003   28        1.0          Aadhar       651756      936600   \n",
       "3     7004   45        2.0          Aadhar       614676      744840   \n",
       "4     7005   48        1.0          Aadhar       625236      839400   \n",
       "\n",
       "   no_of_loans  no_of_curr_loans  last_delinq_none  \n",
       "0            2                 2                 0  \n",
       "1            3                 3                 0  \n",
       "2            0                 0                 0  \n",
       "3            4                 3                 0  \n",
       "4            0                 0                 0  "
      ]
     },
     "execution_count": 21,
     "metadata": {},
     "output_type": "execute_result"
    }
   ],
   "source": [
    "test = pd.read_csv('test.csv')\n",
    "test.head()"
   ]
  },
  {
   "cell_type": "markdown",
   "id": "7b823f37",
   "metadata": {},
   "source": [
    "## Test Data Analysis"
   ]
  },
  {
   "cell_type": "code",
   "execution_count": 22,
   "id": "31d1459e",
   "metadata": {
    "ExecuteTime": {
     "end_time": "2022-07-31T18:24:29.588625Z",
     "start_time": "2022-07-31T18:24:29.575628Z"
    }
   },
   "outputs": [
    {
     "name": "stdout",
     "output_type": "stream",
     "text": [
      "<class 'pandas.core.frame.DataFrame'>\n",
      "RangeIndex: 3000 entries, 0 to 2999\n",
      "Data columns (total 9 columns):\n",
      " #   Column            Non-Null Count  Dtype  \n",
      "---  ------            --------------  -----  \n",
      " 0   loan_id           3000 non-null   int64  \n",
      " 1   age               3000 non-null   int64  \n",
      " 2   education         2908 non-null   float64\n",
      " 3   proof_submitted   3000 non-null   object \n",
      " 4   loan_amount       3000 non-null   int64  \n",
      " 5   asset_cost        3000 non-null   int64  \n",
      " 6   no_of_loans       3000 non-null   int64  \n",
      " 7   no_of_curr_loans  3000 non-null   int64  \n",
      " 8   last_delinq_none  3000 non-null   int64  \n",
      "dtypes: float64(1), int64(7), object(1)\n",
      "memory usage: 211.1+ KB\n"
     ]
    }
   ],
   "source": [
    "test.info()"
   ]
  },
  {
   "cell_type": "code",
   "execution_count": 23,
   "id": "5735cede",
   "metadata": {
    "ExecuteTime": {
     "end_time": "2022-07-31T18:24:29.604625Z",
     "start_time": "2022-07-31T18:24:29.589627Z"
    }
   },
   "outputs": [
    {
     "data": {
      "text/plain": [
       "0"
      ]
     },
     "execution_count": 23,
     "metadata": {},
     "output_type": "execute_result"
    }
   ],
   "source": [
    "test.duplicated().sum()"
   ]
  },
  {
   "cell_type": "code",
   "execution_count": 24,
   "id": "115be521",
   "metadata": {
    "ExecuteTime": {
     "end_time": "2022-07-31T18:24:29.620626Z",
     "start_time": "2022-07-31T18:24:29.606627Z"
    }
   },
   "outputs": [
    {
     "data": {
      "text/plain": [
       "loan_id             3000\n",
       "age                   30\n",
       "education              2\n",
       "proof_submitted        5\n",
       "loan_amount         1479\n",
       "asset_cost          2613\n",
       "no_of_loans           44\n",
       "no_of_curr_loans      18\n",
       "last_delinq_none       2\n",
       "dtype: int64"
      ]
     },
     "execution_count": 24,
     "metadata": {},
     "output_type": "execute_result"
    }
   ],
   "source": [
    "test.nunique()"
   ]
  },
  {
   "cell_type": "markdown",
   "id": "4d7f9aec",
   "metadata": {},
   "source": [
    "## Filling Empty Data With Its Mean"
   ]
  },
  {
   "cell_type": "code",
   "execution_count": 25,
   "id": "5d24cf4e",
   "metadata": {
    "ExecuteTime": {
     "end_time": "2022-07-31T18:24:30.004662Z",
     "start_time": "2022-07-31T18:24:29.622628Z"
    }
   },
   "outputs": [
    {
     "name": "stderr",
     "output_type": "stream",
     "text": [
      "C:\\Users\\Lelouch\\AppData\\Local\\Temp\\ipykernel_16740\\789818481.py:1: FutureWarning: Dropping of nuisance columns in DataFrame reductions (with 'numeric_only=None') is deprecated; in a future version this will raise TypeError.  Select only valid columns before calling the reduction.\n",
      "  test = test.fillna(test.mean())\n"
     ]
    }
   ],
   "source": [
    "test = test.fillna(test.mean())"
   ]
  },
  {
   "cell_type": "code",
   "execution_count": 26,
   "id": "e8b2692d",
   "metadata": {
    "ExecuteTime": {
     "end_time": "2022-07-31T18:24:30.020666Z",
     "start_time": "2022-07-31T18:24:30.006665Z"
    }
   },
   "outputs": [],
   "source": [
    "loan_id = test.loan_id"
   ]
  },
  {
   "cell_type": "markdown",
   "id": "e9c0ede8",
   "metadata": {},
   "source": [
    "## One Hot Encoding"
   ]
  },
  {
   "cell_type": "code",
   "execution_count": 27,
   "id": "246e1751",
   "metadata": {
    "ExecuteTime": {
     "end_time": "2022-07-31T18:24:30.036667Z",
     "start_time": "2022-07-31T18:24:30.022665Z"
    }
   },
   "outputs": [],
   "source": [
    "test = pd.get_dummies(test, drop_first=True)\n",
    "# test = test.drop('proof_submitted',axis='columns')"
   ]
  },
  {
   "cell_type": "code",
   "execution_count": 28,
   "id": "1081a4eb",
   "metadata": {
    "ExecuteTime": {
     "end_time": "2022-07-31T18:24:30.052670Z",
     "start_time": "2022-07-31T18:24:30.040666Z"
    }
   },
   "outputs": [
    {
     "data": {
      "text/html": [
       "<div>\n",
       "<style scoped>\n",
       "    .dataframe tbody tr th:only-of-type {\n",
       "        vertical-align: middle;\n",
       "    }\n",
       "\n",
       "    .dataframe tbody tr th {\n",
       "        vertical-align: top;\n",
       "    }\n",
       "\n",
       "    .dataframe thead th {\n",
       "        text-align: right;\n",
       "    }\n",
       "</style>\n",
       "<table border=\"1\" class=\"dataframe\">\n",
       "  <thead>\n",
       "    <tr style=\"text-align: right;\">\n",
       "      <th></th>\n",
       "      <th>loan_id</th>\n",
       "      <th>age</th>\n",
       "      <th>education</th>\n",
       "      <th>loan_amount</th>\n",
       "      <th>asset_cost</th>\n",
       "      <th>no_of_loans</th>\n",
       "      <th>no_of_curr_loans</th>\n",
       "      <th>last_delinq_none</th>\n",
       "      <th>proof_submitted_Driving</th>\n",
       "      <th>proof_submitted_PAN</th>\n",
       "      <th>proof_submitted_Passport</th>\n",
       "      <th>proof_submitted_VoterID</th>\n",
       "    </tr>\n",
       "  </thead>\n",
       "  <tbody>\n",
       "    <tr>\n",
       "      <th>0</th>\n",
       "      <td>7001</td>\n",
       "      <td>29</td>\n",
       "      <td>1.0</td>\n",
       "      <td>636936</td>\n",
       "      <td>768240</td>\n",
       "      <td>2</td>\n",
       "      <td>2</td>\n",
       "      <td>0</td>\n",
       "      <td>0</td>\n",
       "      <td>0</td>\n",
       "      <td>0</td>\n",
       "      <td>0</td>\n",
       "    </tr>\n",
       "    <tr>\n",
       "      <th>1</th>\n",
       "      <td>7002</td>\n",
       "      <td>28</td>\n",
       "      <td>1.0</td>\n",
       "      <td>548988</td>\n",
       "      <td>693060</td>\n",
       "      <td>3</td>\n",
       "      <td>3</td>\n",
       "      <td>0</td>\n",
       "      <td>0</td>\n",
       "      <td>0</td>\n",
       "      <td>0</td>\n",
       "      <td>0</td>\n",
       "    </tr>\n",
       "    <tr>\n",
       "      <th>2</th>\n",
       "      <td>7003</td>\n",
       "      <td>28</td>\n",
       "      <td>1.0</td>\n",
       "      <td>651756</td>\n",
       "      <td>936600</td>\n",
       "      <td>0</td>\n",
       "      <td>0</td>\n",
       "      <td>0</td>\n",
       "      <td>0</td>\n",
       "      <td>0</td>\n",
       "      <td>0</td>\n",
       "      <td>0</td>\n",
       "    </tr>\n",
       "    <tr>\n",
       "      <th>3</th>\n",
       "      <td>7004</td>\n",
       "      <td>45</td>\n",
       "      <td>2.0</td>\n",
       "      <td>614676</td>\n",
       "      <td>744840</td>\n",
       "      <td>4</td>\n",
       "      <td>3</td>\n",
       "      <td>0</td>\n",
       "      <td>0</td>\n",
       "      <td>0</td>\n",
       "      <td>0</td>\n",
       "      <td>0</td>\n",
       "    </tr>\n",
       "    <tr>\n",
       "      <th>4</th>\n",
       "      <td>7005</td>\n",
       "      <td>48</td>\n",
       "      <td>1.0</td>\n",
       "      <td>625236</td>\n",
       "      <td>839400</td>\n",
       "      <td>0</td>\n",
       "      <td>0</td>\n",
       "      <td>0</td>\n",
       "      <td>0</td>\n",
       "      <td>0</td>\n",
       "      <td>0</td>\n",
       "      <td>0</td>\n",
       "    </tr>\n",
       "  </tbody>\n",
       "</table>\n",
       "</div>"
      ],
      "text/plain": [
       "   loan_id  age  education  loan_amount  asset_cost  no_of_loans  \\\n",
       "0     7001   29        1.0       636936      768240            2   \n",
       "1     7002   28        1.0       548988      693060            3   \n",
       "2     7003   28        1.0       651756      936600            0   \n",
       "3     7004   45        2.0       614676      744840            4   \n",
       "4     7005   48        1.0       625236      839400            0   \n",
       "\n",
       "   no_of_curr_loans  last_delinq_none  proof_submitted_Driving  \\\n",
       "0                 2                 0                        0   \n",
       "1                 3                 0                        0   \n",
       "2                 0                 0                        0   \n",
       "3                 3                 0                        0   \n",
       "4                 0                 0                        0   \n",
       "\n",
       "   proof_submitted_PAN  proof_submitted_Passport  proof_submitted_VoterID  \n",
       "0                    0                         0                        0  \n",
       "1                    0                         0                        0  \n",
       "2                    0                         0                        0  \n",
       "3                    0                         0                        0  \n",
       "4                    0                         0                        0  "
      ]
     },
     "execution_count": 28,
     "metadata": {},
     "output_type": "execute_result"
    }
   ],
   "source": [
    "test.head()"
   ]
  },
  {
   "cell_type": "markdown",
   "id": "caa98875",
   "metadata": {},
   "source": [
    "## Remove"
   ]
  },
  {
   "cell_type": "code",
   "execution_count": 29,
   "id": "8b2beb81",
   "metadata": {
    "ExecuteTime": {
     "end_time": "2022-07-31T18:24:30.068669Z",
     "start_time": "2022-07-31T18:24:30.054669Z"
    }
   },
   "outputs": [],
   "source": [
    "test = test.drop('asset_cost',axis='columns')\n",
    "test = test.drop('loan_id',axis=\"columns\")\n",
    "# test = test.drop('education',axis=\"columns\")"
   ]
  },
  {
   "cell_type": "markdown",
   "id": "ac3cf904",
   "metadata": {},
   "source": [
    "# Smote"
   ]
  },
  {
   "cell_type": "code",
   "execution_count": 30,
   "id": "596bec1b",
   "metadata": {
    "ExecuteTime": {
     "end_time": "2022-07-31T18:24:30.484699Z",
     "start_time": "2022-07-31T18:24:30.070674Z"
    }
   },
   "outputs": [],
   "source": [
    "from imblearn.over_sampling import SMOTE"
   ]
  },
  {
   "cell_type": "code",
   "execution_count": 31,
   "id": "b84a065c",
   "metadata": {
    "ExecuteTime": {
     "end_time": "2022-07-31T18:24:30.500699Z",
     "start_time": "2022-07-31T18:24:30.486703Z"
    }
   },
   "outputs": [],
   "source": [
    "sm = SMOTE(random_state = 2)"
   ]
  },
  {
   "cell_type": "code",
   "execution_count": 32,
   "id": "85edb32e",
   "metadata": {
    "ExecuteTime": {
     "end_time": "2022-07-31T18:24:30.532702Z",
     "start_time": "2022-07-31T18:24:30.503702Z"
    }
   },
   "outputs": [],
   "source": [
    "new, tar = sm.fit_resample(new, tar)"
   ]
  },
  {
   "cell_type": "markdown",
   "id": "613125c1",
   "metadata": {},
   "source": [
    "# Train Data"
   ]
  },
  {
   "cell_type": "markdown",
   "id": "301e3f1b",
   "metadata": {},
   "source": [
    "## Using Multnomial Naive Bayse Classifier "
   ]
  },
  {
   "cell_type": "code",
   "execution_count": 33,
   "id": "b96a441c",
   "metadata": {
    "ExecuteTime": {
     "end_time": "2022-07-31T18:24:30.548701Z",
     "start_time": "2022-07-31T18:24:30.534702Z"
    }
   },
   "outputs": [],
   "source": [
    "from sklearn.naive_bayes import MultinomialNB "
   ]
  },
  {
   "cell_type": "markdown",
   "id": "f1f89ec9",
   "metadata": {
    "ExecuteTime": {
     "end_time": "2022-07-31T17:13:39.239102Z",
     "start_time": "2022-07-31T17:13:39.232104Z"
    }
   },
   "source": [
    "## Using Grid Search Cross Validation"
   ]
  },
  {
   "cell_type": "code",
   "execution_count": 34,
   "id": "5270e707",
   "metadata": {
    "ExecuteTime": {
     "end_time": "2022-07-31T18:24:30.564402Z",
     "start_time": "2022-07-31T18:24:30.549701Z"
    }
   },
   "outputs": [],
   "source": [
    "from sklearn.model_selection import GridSearchCV"
   ]
  },
  {
   "cell_type": "code",
   "execution_count": 35,
   "id": "bc546f3d",
   "metadata": {
    "ExecuteTime": {
     "end_time": "2022-07-31T18:24:30.580074Z",
     "start_time": "2022-07-31T18:24:30.565709Z"
    }
   },
   "outputs": [],
   "source": [
    "params = {'alpha': [0.01, 0.1, 0.5, 1.0, 10.0], 'fit_prior':[True,False] }"
   ]
  },
  {
   "cell_type": "code",
   "execution_count": 36,
   "id": "3550bfcc",
   "metadata": {
    "ExecuteTime": {
     "end_time": "2022-07-31T18:24:30.596076Z",
     "start_time": "2022-07-31T18:24:30.581074Z"
    }
   },
   "outputs": [],
   "source": [
    "model = GridSearchCV(MultinomialNB(), params, cv=7)"
   ]
  },
  {
   "cell_type": "code",
   "execution_count": 37,
   "id": "24d03dd1",
   "metadata": {
    "ExecuteTime": {
     "end_time": "2022-07-31T18:24:31.076110Z",
     "start_time": "2022-07-31T18:24:30.597077Z"
    }
   },
   "outputs": [
    {
     "data": {
      "text/plain": [
       "GridSearchCV(cv=7, estimator=MultinomialNB(),\n",
       "             param_grid={'alpha': [0.01, 0.1, 0.5, 1.0, 10.0],\n",
       "                         'fit_prior': [True, False]})"
      ]
     },
     "execution_count": 37,
     "metadata": {},
     "output_type": "execute_result"
    }
   ],
   "source": [
    "model.fit(new,tar)"
   ]
  },
  {
   "cell_type": "markdown",
   "id": "cd0520ca",
   "metadata": {
    "ExecuteTime": {
     "end_time": "2022-07-31T17:10:03.089180Z",
     "start_time": "2022-07-31T17:10:03.070180Z"
    }
   },
   "source": [
    "## Checking Column Data Size"
   ]
  },
  {
   "cell_type": "code",
   "execution_count": 38,
   "id": "a5d468e2",
   "metadata": {
    "ExecuteTime": {
     "end_time": "2022-07-31T18:24:31.092115Z",
     "start_time": "2022-07-31T18:24:31.078113Z"
    }
   },
   "outputs": [
    {
     "data": {
      "text/html": [
       "<div>\n",
       "<style scoped>\n",
       "    .dataframe tbody tr th:only-of-type {\n",
       "        vertical-align: middle;\n",
       "    }\n",
       "\n",
       "    .dataframe tbody tr th {\n",
       "        vertical-align: top;\n",
       "    }\n",
       "\n",
       "    .dataframe thead th {\n",
       "        text-align: right;\n",
       "    }\n",
       "</style>\n",
       "<table border=\"1\" class=\"dataframe\">\n",
       "  <thead>\n",
       "    <tr style=\"text-align: right;\">\n",
       "      <th></th>\n",
       "      <th>age</th>\n",
       "      <th>education</th>\n",
       "      <th>loan_amount</th>\n",
       "      <th>no_of_loans</th>\n",
       "      <th>no_of_curr_loans</th>\n",
       "      <th>last_delinq_none</th>\n",
       "      <th>proof_submitted_Driving</th>\n",
       "      <th>proof_submitted_PAN</th>\n",
       "      <th>proof_submitted_Passport</th>\n",
       "      <th>proof_submitted_VoterID</th>\n",
       "    </tr>\n",
       "  </thead>\n",
       "  <tbody>\n",
       "    <tr>\n",
       "      <th>0</th>\n",
       "      <td>27</td>\n",
       "      <td>1.0</td>\n",
       "      <td>504264</td>\n",
       "      <td>2</td>\n",
       "      <td>2</td>\n",
       "      <td>0</td>\n",
       "      <td>0</td>\n",
       "      <td>0</td>\n",
       "      <td>0</td>\n",
       "      <td>0</td>\n",
       "    </tr>\n",
       "    <tr>\n",
       "      <th>1</th>\n",
       "      <td>48</td>\n",
       "      <td>1.0</td>\n",
       "      <td>728556</td>\n",
       "      <td>6</td>\n",
       "      <td>2</td>\n",
       "      <td>0</td>\n",
       "      <td>0</td>\n",
       "      <td>0</td>\n",
       "      <td>0</td>\n",
       "      <td>0</td>\n",
       "    </tr>\n",
       "    <tr>\n",
       "      <th>2</th>\n",
       "      <td>30</td>\n",
       "      <td>2.0</td>\n",
       "      <td>642936</td>\n",
       "      <td>0</td>\n",
       "      <td>0</td>\n",
       "      <td>0</td>\n",
       "      <td>0</td>\n",
       "      <td>0</td>\n",
       "      <td>0</td>\n",
       "      <td>1</td>\n",
       "    </tr>\n",
       "    <tr>\n",
       "      <th>3</th>\n",
       "      <td>28</td>\n",
       "      <td>1.0</td>\n",
       "      <td>746556</td>\n",
       "      <td>0</td>\n",
       "      <td>0</td>\n",
       "      <td>0</td>\n",
       "      <td>0</td>\n",
       "      <td>0</td>\n",
       "      <td>0</td>\n",
       "      <td>0</td>\n",
       "    </tr>\n",
       "    <tr>\n",
       "      <th>4</th>\n",
       "      <td>29</td>\n",
       "      <td>1.0</td>\n",
       "      <td>1139880</td>\n",
       "      <td>0</td>\n",
       "      <td>0</td>\n",
       "      <td>0</td>\n",
       "      <td>0</td>\n",
       "      <td>0</td>\n",
       "      <td>0</td>\n",
       "      <td>0</td>\n",
       "    </tr>\n",
       "  </tbody>\n",
       "</table>\n",
       "</div>"
      ],
      "text/plain": [
       "   age  education  loan_amount  no_of_loans  no_of_curr_loans  \\\n",
       "0   27        1.0       504264            2                 2   \n",
       "1   48        1.0       728556            6                 2   \n",
       "2   30        2.0       642936            0                 0   \n",
       "3   28        1.0       746556            0                 0   \n",
       "4   29        1.0      1139880            0                 0   \n",
       "\n",
       "   last_delinq_none  proof_submitted_Driving  proof_submitted_PAN  \\\n",
       "0                 0                        0                    0   \n",
       "1                 0                        0                    0   \n",
       "2                 0                        0                    0   \n",
       "3                 0                        0                    0   \n",
       "4                 0                        0                    0   \n",
       "\n",
       "   proof_submitted_Passport  proof_submitted_VoterID  \n",
       "0                         0                        0  \n",
       "1                         0                        0  \n",
       "2                         0                        1  \n",
       "3                         0                        0  \n",
       "4                         0                        0  "
      ]
     },
     "execution_count": 38,
     "metadata": {},
     "output_type": "execute_result"
    }
   ],
   "source": [
    "# new['asset_left'] = new['asset_cost']-new['loan_amount']\n",
    "# new['loan_delinq_none'] = new.no_of_loans - new.no_of_curr_loans\n",
    "new.head()"
   ]
  },
  {
   "cell_type": "code",
   "execution_count": 39,
   "id": "0b50c917",
   "metadata": {
    "ExecuteTime": {
     "end_time": "2022-07-31T18:24:31.123116Z",
     "start_time": "2022-07-31T18:24:31.094114Z"
    }
   },
   "outputs": [
    {
     "data": {
      "text/html": [
       "<div>\n",
       "<style scoped>\n",
       "    .dataframe tbody tr th:only-of-type {\n",
       "        vertical-align: middle;\n",
       "    }\n",
       "\n",
       "    .dataframe tbody tr th {\n",
       "        vertical-align: top;\n",
       "    }\n",
       "\n",
       "    .dataframe thead th {\n",
       "        text-align: right;\n",
       "    }\n",
       "</style>\n",
       "<table border=\"1\" class=\"dataframe\">\n",
       "  <thead>\n",
       "    <tr style=\"text-align: right;\">\n",
       "      <th></th>\n",
       "      <th>age</th>\n",
       "      <th>education</th>\n",
       "      <th>loan_amount</th>\n",
       "      <th>no_of_loans</th>\n",
       "      <th>no_of_curr_loans</th>\n",
       "      <th>last_delinq_none</th>\n",
       "      <th>proof_submitted_Driving</th>\n",
       "      <th>proof_submitted_PAN</th>\n",
       "      <th>proof_submitted_Passport</th>\n",
       "      <th>proof_submitted_VoterID</th>\n",
       "    </tr>\n",
       "  </thead>\n",
       "  <tbody>\n",
       "    <tr>\n",
       "      <th>0</th>\n",
       "      <td>29</td>\n",
       "      <td>1.0</td>\n",
       "      <td>636936</td>\n",
       "      <td>2</td>\n",
       "      <td>2</td>\n",
       "      <td>0</td>\n",
       "      <td>0</td>\n",
       "      <td>0</td>\n",
       "      <td>0</td>\n",
       "      <td>0</td>\n",
       "    </tr>\n",
       "    <tr>\n",
       "      <th>1</th>\n",
       "      <td>28</td>\n",
       "      <td>1.0</td>\n",
       "      <td>548988</td>\n",
       "      <td>3</td>\n",
       "      <td>3</td>\n",
       "      <td>0</td>\n",
       "      <td>0</td>\n",
       "      <td>0</td>\n",
       "      <td>0</td>\n",
       "      <td>0</td>\n",
       "    </tr>\n",
       "    <tr>\n",
       "      <th>2</th>\n",
       "      <td>28</td>\n",
       "      <td>1.0</td>\n",
       "      <td>651756</td>\n",
       "      <td>0</td>\n",
       "      <td>0</td>\n",
       "      <td>0</td>\n",
       "      <td>0</td>\n",
       "      <td>0</td>\n",
       "      <td>0</td>\n",
       "      <td>0</td>\n",
       "    </tr>\n",
       "    <tr>\n",
       "      <th>3</th>\n",
       "      <td>45</td>\n",
       "      <td>2.0</td>\n",
       "      <td>614676</td>\n",
       "      <td>4</td>\n",
       "      <td>3</td>\n",
       "      <td>0</td>\n",
       "      <td>0</td>\n",
       "      <td>0</td>\n",
       "      <td>0</td>\n",
       "      <td>0</td>\n",
       "    </tr>\n",
       "    <tr>\n",
       "      <th>4</th>\n",
       "      <td>48</td>\n",
       "      <td>1.0</td>\n",
       "      <td>625236</td>\n",
       "      <td>0</td>\n",
       "      <td>0</td>\n",
       "      <td>0</td>\n",
       "      <td>0</td>\n",
       "      <td>0</td>\n",
       "      <td>0</td>\n",
       "      <td>0</td>\n",
       "    </tr>\n",
       "  </tbody>\n",
       "</table>\n",
       "</div>"
      ],
      "text/plain": [
       "   age  education  loan_amount  no_of_loans  no_of_curr_loans  \\\n",
       "0   29        1.0       636936            2                 2   \n",
       "1   28        1.0       548988            3                 3   \n",
       "2   28        1.0       651756            0                 0   \n",
       "3   45        2.0       614676            4                 3   \n",
       "4   48        1.0       625236            0                 0   \n",
       "\n",
       "   last_delinq_none  proof_submitted_Driving  proof_submitted_PAN  \\\n",
       "0                 0                        0                    0   \n",
       "1                 0                        0                    0   \n",
       "2                 0                        0                    0   \n",
       "3                 0                        0                    0   \n",
       "4                 0                        0                    0   \n",
       "\n",
       "   proof_submitted_Passport  proof_submitted_VoterID  \n",
       "0                         0                        0  \n",
       "1                         0                        0  \n",
       "2                         0                        0  \n",
       "3                         0                        0  \n",
       "4                         0                        0  "
      ]
     },
     "execution_count": 39,
     "metadata": {},
     "output_type": "execute_result"
    }
   ],
   "source": [
    "# test['asset_left'] = test['asset_cost']-test['loan_amount']\n",
    "# test['loan_delinq_none'] = test.no_of_loans - test.no_of_curr_loans\n",
    "test.head()"
   ]
  },
  {
   "cell_type": "code",
   "execution_count": 40,
   "id": "3be0d01a",
   "metadata": {
    "ExecuteTime": {
     "end_time": "2022-07-31T18:24:31.139115Z",
     "start_time": "2022-07-31T18:24:31.125115Z"
    }
   },
   "outputs": [
    {
     "data": {
      "text/plain": [
       "10"
      ]
     },
     "execution_count": 40,
     "metadata": {},
     "output_type": "execute_result"
    }
   ],
   "source": [
    "new.shape[1]"
   ]
  },
  {
   "cell_type": "code",
   "execution_count": 41,
   "id": "2ed8da20",
   "metadata": {
    "ExecuteTime": {
     "end_time": "2022-07-31T18:24:31.155118Z",
     "start_time": "2022-07-31T18:24:31.141118Z"
    }
   },
   "outputs": [
    {
     "data": {
      "text/plain": [
       "10"
      ]
     },
     "execution_count": 41,
     "metadata": {},
     "output_type": "execute_result"
    }
   ],
   "source": [
    "test.shape[1]"
   ]
  },
  {
   "cell_type": "markdown",
   "id": "d3777e80",
   "metadata": {},
   "source": [
    "# Predicting Test Case Value"
   ]
  },
  {
   "cell_type": "code",
   "execution_count": 42,
   "id": "f75e5084",
   "metadata": {
    "ExecuteTime": {
     "end_time": "2022-07-31T18:24:31.171119Z",
     "start_time": "2022-07-31T18:24:31.157118Z"
    }
   },
   "outputs": [],
   "source": [
    "y_pred = model.predict(test)"
   ]
  },
  {
   "cell_type": "code",
   "execution_count": 43,
   "id": "892e85ef",
   "metadata": {
    "ExecuteTime": {
     "end_time": "2022-07-31T18:24:31.187121Z",
     "start_time": "2022-07-31T18:24:31.173120Z"
    }
   },
   "outputs": [
    {
     "data": {
      "text/plain": [
       "(1783,)"
      ]
     },
     "execution_count": 43,
     "metadata": {},
     "output_type": "execute_result"
    }
   ],
   "source": [
    "y_pred[y_pred==1].shape"
   ]
  },
  {
   "cell_type": "code",
   "execution_count": 44,
   "id": "84f79a09",
   "metadata": {
    "ExecuteTime": {
     "end_time": "2022-07-31T18:24:31.203122Z",
     "start_time": "2022-07-31T18:24:31.189122Z"
    }
   },
   "outputs": [
    {
     "data": {
      "text/plain": [
       "(1217,)"
      ]
     },
     "execution_count": 44,
     "metadata": {},
     "output_type": "execute_result"
    }
   ],
   "source": [
    "y_pred[y_pred==0].shape"
   ]
  },
  {
   "cell_type": "code",
   "execution_count": 45,
   "id": "24b6829b",
   "metadata": {
    "ExecuteTime": {
     "end_time": "2022-07-31T18:24:31.219121Z",
     "start_time": "2022-07-31T18:24:31.205123Z"
    }
   },
   "outputs": [
    {
     "data": {
      "text/plain": [
       "((3000, 10), (3000,))"
      ]
     },
     "execution_count": 45,
     "metadata": {},
     "output_type": "execute_result"
    }
   ],
   "source": [
    "test.shape, y_pred.shape"
   ]
  },
  {
   "cell_type": "markdown",
   "id": "4827c75c",
   "metadata": {},
   "source": [
    "# Predicting Model Score"
   ]
  },
  {
   "cell_type": "code",
   "execution_count": 46,
   "id": "724c3cf3",
   "metadata": {
    "ExecuteTime": {
     "end_time": "2022-07-31T18:24:31.235125Z",
     "start_time": "2022-07-31T18:24:31.221123Z"
    }
   },
   "outputs": [
    {
     "data": {
      "text/plain": [
       "0.5583333333333333"
      ]
     },
     "execution_count": 46,
     "metadata": {},
     "output_type": "execute_result"
    }
   ],
   "source": [
    "model.best_score_"
   ]
  },
  {
   "cell_type": "markdown",
   "id": "387b9ec9",
   "metadata": {
    "ExecuteTime": {
     "end_time": "2022-07-31T17:12:09.061383Z",
     "start_time": "2022-07-31T17:12:09.047387Z"
    }
   },
   "source": [
    "# Editing the Value in CSV file"
   ]
  },
  {
   "cell_type": "code",
   "execution_count": 47,
   "id": "46e83a0d",
   "metadata": {
    "ExecuteTime": {
     "end_time": "2022-07-31T18:24:31.251123Z",
     "start_time": "2022-07-31T18:24:31.237126Z"
    }
   },
   "outputs": [],
   "source": [
    "prediction = pd.DataFrame({\"loan_id\":loan_id,'loan_default':y_pred})"
   ]
  },
  {
   "cell_type": "code",
   "execution_count": 48,
   "id": "27fd8457",
   "metadata": {
    "ExecuteTime": {
     "end_time": "2022-07-31T18:24:31.283126Z",
     "start_time": "2022-07-31T18:24:31.253126Z"
    }
   },
   "outputs": [],
   "source": [
    "prediction.to_csv('sample_submission.csv',index=False)"
   ]
  }
 ],
 "metadata": {
  "kernelspec": {
   "display_name": "Python 3 (ipykernel)",
   "language": "python",
   "name": "python3"
  },
  "language_info": {
   "codemirror_mode": {
    "name": "ipython",
    "version": 3
   },
   "file_extension": ".py",
   "mimetype": "text/x-python",
   "name": "python",
   "nbconvert_exporter": "python",
   "pygments_lexer": "ipython3",
   "version": "3.9.7"
  },
  "toc": {
   "base_numbering": 1,
   "nav_menu": {},
   "number_sections": true,
   "sideBar": true,
   "skip_h1_title": false,
   "title_cell": "Table of Contents",
   "title_sidebar": "Contents",
   "toc_cell": true,
   "toc_position": {},
   "toc_section_display": true,
   "toc_window_display": false
  }
 },
 "nbformat": 4,
 "nbformat_minor": 5
}
